{
 "cells": [
  {
   "cell_type": "markdown",
   "metadata": {},
   "source": [
    "# Desafio LightHouse Indicium - Ciência de dados\n",
    "<b>Nome:</b> Fábio Dias Rezende Carvalho </br>\n",
    "<b>E-mail:</b> fabior.carvalho@hotmail.com </br>\n",
    "O seguinte relatório tem por objetivo avaliar meus conhecimentos sobre  a  resolução  de  problemas  de  negócios,  análise  de  dados  e  aplicação  de  modelos preditivos.\n",
    "\n",
    "## Desafio\n",
    "Considerando que trabalho para a Indicium, eu fui  alocado  em  um  time que trabalhará para um estúdio de Hollywood chamado  PProductions, e agora devo fazer uma análise em cima de um banco de dados cinematográfico para orientar qual tipo de filme deve ser o próximo a ser desenvolvido.\n",
    "\n",
    "#### Entregas\n",
    "<ul>\n",
    "  <li><b>Análise exploratória:</b> demonstrando as principais características entre as variáveis e apresentando algumas hipóteses\n",
    "relacionadas.</li>\n",
    "  <li><b>Responder as seguintes perguntas:</b> \n",
    "  <ul>\n",
    "    <li>Qual filme eu recomendaria para uma pessoa que eu não conheço?</li>\n",
    "    <li>Quais são os principais fatores que estão relacionados com alta expectativa de faturamento de um filme?</li>\n",
    "    <li>Quais insights podem ser tirados com a coluna Overview? É possível inferir o gênero do filme a partir dessa coluna?</li>\n",
    "  </ul></li>\n",
    "  <li><b>Nota do IMDB:</b> Como fazer a previsão da nota do IMDB com base nos dados? Quais variáveis e/ou suas transformações eu utilizei e por quê? Qual tipo de problema estou resolvendo (regressão, classificação)? Qual modelo melhor se aproxima dos dados e quais seus prós e contras? Qual medida de performance do modelo foi escolhida e por quê?</li>\n",
    "  <li><b>Sugestão de nota: </b>Analisar um filme estipulado no desafio e estimar a sua nota no IMDB baseado nas caracteristicas dadas.</li>\n",
    "  <li><b>Modelo: </b>Deve ser entregue no formato '.pkl'.</li> \n",
    "</ul>"
   ]
  },
  {
   "cell_type": "markdown",
   "metadata": {},
   "source": [
    "# Exploraçao de dados"
   ]
  },
  {
   "cell_type": "code",
   "execution_count": 1464,
   "metadata": {},
   "outputs": [
    {
     "data": {
      "text/html": [
       "<div>\n",
       "<style scoped>\n",
       "    .dataframe tbody tr th:only-of-type {\n",
       "        vertical-align: middle;\n",
       "    }\n",
       "\n",
       "    .dataframe tbody tr th {\n",
       "        vertical-align: top;\n",
       "    }\n",
       "\n",
       "    .dataframe thead th {\n",
       "        text-align: right;\n",
       "    }\n",
       "</style>\n",
       "<table border=\"1\" class=\"dataframe\">\n",
       "  <thead>\n",
       "    <tr style=\"text-align: right;\">\n",
       "      <th></th>\n",
       "      <th>Unnamed: 0</th>\n",
       "      <th>Series_Title</th>\n",
       "      <th>Released_Year</th>\n",
       "      <th>Certificate</th>\n",
       "      <th>Runtime</th>\n",
       "      <th>Genre</th>\n",
       "      <th>IMDB_Rating</th>\n",
       "      <th>Overview</th>\n",
       "      <th>Meta_score</th>\n",
       "      <th>Director</th>\n",
       "      <th>Star1</th>\n",
       "      <th>Star2</th>\n",
       "      <th>Star3</th>\n",
       "      <th>Star4</th>\n",
       "      <th>No_of_Votes</th>\n",
       "      <th>Gross</th>\n",
       "    </tr>\n",
       "  </thead>\n",
       "  <tbody>\n",
       "    <tr>\n",
       "      <th>0</th>\n",
       "      <td>1</td>\n",
       "      <td>The Godfather</td>\n",
       "      <td>1972</td>\n",
       "      <td>A</td>\n",
       "      <td>175 min</td>\n",
       "      <td>Crime, Drama</td>\n",
       "      <td>9.2</td>\n",
       "      <td>An organized crime dynasty's aging patriarch t...</td>\n",
       "      <td>100.0</td>\n",
       "      <td>Francis Ford Coppola</td>\n",
       "      <td>Marlon Brando</td>\n",
       "      <td>Al Pacino</td>\n",
       "      <td>James Caan</td>\n",
       "      <td>Diane Keaton</td>\n",
       "      <td>1620367</td>\n",
       "      <td>134,966,411</td>\n",
       "    </tr>\n",
       "    <tr>\n",
       "      <th>1</th>\n",
       "      <td>2</td>\n",
       "      <td>The Dark Knight</td>\n",
       "      <td>2008</td>\n",
       "      <td>UA</td>\n",
       "      <td>152 min</td>\n",
       "      <td>Action, Crime, Drama</td>\n",
       "      <td>9.0</td>\n",
       "      <td>When the menace known as the Joker wreaks havo...</td>\n",
       "      <td>84.0</td>\n",
       "      <td>Christopher Nolan</td>\n",
       "      <td>Christian Bale</td>\n",
       "      <td>Heath Ledger</td>\n",
       "      <td>Aaron Eckhart</td>\n",
       "      <td>Michael Caine</td>\n",
       "      <td>2303232</td>\n",
       "      <td>534,858,444</td>\n",
       "    </tr>\n",
       "    <tr>\n",
       "      <th>2</th>\n",
       "      <td>3</td>\n",
       "      <td>The Godfather: Part II</td>\n",
       "      <td>1974</td>\n",
       "      <td>A</td>\n",
       "      <td>202 min</td>\n",
       "      <td>Crime, Drama</td>\n",
       "      <td>9.0</td>\n",
       "      <td>The early life and career of Vito Corleone in ...</td>\n",
       "      <td>90.0</td>\n",
       "      <td>Francis Ford Coppola</td>\n",
       "      <td>Al Pacino</td>\n",
       "      <td>Robert De Niro</td>\n",
       "      <td>Robert Duvall</td>\n",
       "      <td>Diane Keaton</td>\n",
       "      <td>1129952</td>\n",
       "      <td>57,300,000</td>\n",
       "    </tr>\n",
       "    <tr>\n",
       "      <th>3</th>\n",
       "      <td>4</td>\n",
       "      <td>12 Angry Men</td>\n",
       "      <td>1957</td>\n",
       "      <td>U</td>\n",
       "      <td>96 min</td>\n",
       "      <td>Crime, Drama</td>\n",
       "      <td>9.0</td>\n",
       "      <td>A jury holdout attempts to prevent a miscarria...</td>\n",
       "      <td>96.0</td>\n",
       "      <td>Sidney Lumet</td>\n",
       "      <td>Henry Fonda</td>\n",
       "      <td>Lee J. Cobb</td>\n",
       "      <td>Martin Balsam</td>\n",
       "      <td>John Fiedler</td>\n",
       "      <td>689845</td>\n",
       "      <td>4,360,000</td>\n",
       "    </tr>\n",
       "    <tr>\n",
       "      <th>4</th>\n",
       "      <td>5</td>\n",
       "      <td>The Lord of the Rings: The Return of the King</td>\n",
       "      <td>2003</td>\n",
       "      <td>U</td>\n",
       "      <td>201 min</td>\n",
       "      <td>Action, Adventure, Drama</td>\n",
       "      <td>8.9</td>\n",
       "      <td>Gandalf and Aragorn lead the World of Men agai...</td>\n",
       "      <td>94.0</td>\n",
       "      <td>Peter Jackson</td>\n",
       "      <td>Elijah Wood</td>\n",
       "      <td>Viggo Mortensen</td>\n",
       "      <td>Ian McKellen</td>\n",
       "      <td>Orlando Bloom</td>\n",
       "      <td>1642758</td>\n",
       "      <td>377,845,905</td>\n",
       "    </tr>\n",
       "  </tbody>\n",
       "</table>\n",
       "</div>"
      ],
      "text/plain": [
       "   Unnamed: 0                                   Series_Title Released_Year  \\\n",
       "0           1                                  The Godfather          1972   \n",
       "1           2                                The Dark Knight          2008   \n",
       "2           3                         The Godfather: Part II          1974   \n",
       "3           4                                   12 Angry Men          1957   \n",
       "4           5  The Lord of the Rings: The Return of the King          2003   \n",
       "\n",
       "  Certificate  Runtime                     Genre  IMDB_Rating  \\\n",
       "0           A  175 min              Crime, Drama          9.2   \n",
       "1          UA  152 min      Action, Crime, Drama          9.0   \n",
       "2           A  202 min              Crime, Drama          9.0   \n",
       "3           U   96 min              Crime, Drama          9.0   \n",
       "4           U  201 min  Action, Adventure, Drama          8.9   \n",
       "\n",
       "                                            Overview  Meta_score  \\\n",
       "0  An organized crime dynasty's aging patriarch t...       100.0   \n",
       "1  When the menace known as the Joker wreaks havo...        84.0   \n",
       "2  The early life and career of Vito Corleone in ...        90.0   \n",
       "3  A jury holdout attempts to prevent a miscarria...        96.0   \n",
       "4  Gandalf and Aragorn lead the World of Men agai...        94.0   \n",
       "\n",
       "               Director           Star1            Star2          Star3  \\\n",
       "0  Francis Ford Coppola   Marlon Brando        Al Pacino     James Caan   \n",
       "1     Christopher Nolan  Christian Bale     Heath Ledger  Aaron Eckhart   \n",
       "2  Francis Ford Coppola       Al Pacino   Robert De Niro  Robert Duvall   \n",
       "3          Sidney Lumet     Henry Fonda      Lee J. Cobb  Martin Balsam   \n",
       "4         Peter Jackson     Elijah Wood  Viggo Mortensen   Ian McKellen   \n",
       "\n",
       "           Star4  No_of_Votes        Gross  \n",
       "0   Diane Keaton      1620367  134,966,411  \n",
       "1  Michael Caine      2303232  534,858,444  \n",
       "2   Diane Keaton      1129952   57,300,000  \n",
       "3   John Fiedler       689845    4,360,000  \n",
       "4  Orlando Bloom      1642758  377,845,905  "
      ]
     },
     "execution_count": 1464,
     "metadata": {},
     "output_type": "execute_result"
    }
   ],
   "source": [
    "import pandas as pd\n",
    "import matplotlib.pyplot as plt\n",
    "\n",
    "dados = pd.read_csv('dados/desafio_indicium_imdb.csv')\n",
    "dados.head()"
   ]
  },
  {
   "cell_type": "code",
   "execution_count": 1465,
   "metadata": {},
   "outputs": [
    {
     "name": "stdout",
     "output_type": "stream",
     "text": [
      "<class 'pandas.core.frame.DataFrame'>\n",
      "RangeIndex: 999 entries, 0 to 998\n",
      "Data columns (total 16 columns):\n",
      " #   Column         Non-Null Count  Dtype  \n",
      "---  ------         --------------  -----  \n",
      " 0   Unnamed: 0     999 non-null    int64  \n",
      " 1   Series_Title   999 non-null    object \n",
      " 2   Released_Year  999 non-null    object \n",
      " 3   Certificate    898 non-null    object \n",
      " 4   Runtime        999 non-null    object \n",
      " 5   Genre          999 non-null    object \n",
      " 6   IMDB_Rating    999 non-null    float64\n",
      " 7   Overview       999 non-null    object \n",
      " 8   Meta_score     842 non-null    float64\n",
      " 9   Director       999 non-null    object \n",
      " 10  Star1          999 non-null    object \n",
      " 11  Star2          999 non-null    object \n",
      " 12  Star3          999 non-null    object \n",
      " 13  Star4          999 non-null    object \n",
      " 14  No_of_Votes    999 non-null    int64  \n",
      " 15  Gross          830 non-null    object \n",
      "dtypes: float64(2), int64(2), object(12)\n",
      "memory usage: 125.0+ KB\n"
     ]
    }
   ],
   "source": [
    "dados.info()"
   ]
  },
  {
   "cell_type": "markdown",
   "metadata": {},
   "source": [
    "Nosso conjunto de dados trás diversas informações em cada coluna que serão descritas abaixo, mas antes gostaria de chamar a atenção para os valores faltantes dentro do nosso conjunto de dados, uma vez que quase todas as colunas possuem 999 valores, exceto as colunas 'Certificate' (898), 'Meta_score' (842) e 'Gross' (830) possuem valores faltantes que serão trabalhados mais a frente. </br>\n",
    "Traduzindo nosso conjunto de dados encontramos:\n",
    "<ul>\n",
    "<li><b>Series_title</b>: Nome do filme;</li>\n",
    "<li><b>Released_Year</b>: Ano de lançamento do filme;</li>\n",
    "<li><b>Certificate</b>: Classificação etária do filme;</li>\n",
    "<li><b>Runtime</b>: Tempo de duração do filme;</li>\n",
    "<li><b>Genre</b>: Gênero do filme;</li>\n",
    "<li><b>3IMDB_Rating</b>: Nota no IMDB do filme;</li>\n",
    "<li><b>Overview</b>: Descrição geral do filme;</li>\n",
    "<li><b>Meta_score</b>: Média ponderada de todas as críticas do filme;</li>\n",
    "<li><b>Director</b>: Diretor do filme;</li>\n",
    "<li><b>Star1</b>: Ator/atriz #1 do filme;</li>\n",
    "<li><b>Star2</b>: Ator/atriz #2 do filme;</li>\n",
    "<li><b>Star3</b>: Ator/atriz #3 do filme;</li>\n",
    "<li><b>Star4</b>: Ator/atriz #4 do filme;</li>\n",
    "<li><b>No_of_Votes</b>: Número de votos que o filme teve;</li>\n",
    "<li><b>Gross</b>: Faturamento do filme.</li>\n",
    "</ul>\n",
    "\n",
    "### Trabalhando os dados faltantes e os tipos de dados\n",
    "Para evitar perder informações do nosso conjunto de dados farei uma abordagem de complementar os valores faltantes nas colunas. Para os valores faltantes dentro das colunas 'meta_score' e da coluna 'Gross' eu substituirei os valores faltantes pelo valor médio dessas colunas obtidos dentro do nosso conjunto de dados. Para a coluna 'Certificate' eu tomarei as decisões mais a frente, uma vez que ela possui diversos valores possiveis dentro dos dados.\n",
    "\n",
    "Também vou remover a coluna chamada 'unnamed: 0', pois não será utilizada na nossa análise."
   ]
  },
  {
   "cell_type": "code",
   "execution_count": 1466,
   "metadata": {},
   "outputs": [
    {
     "data": {
      "text/plain": [
       "array(['A', 'UA', 'U', 'PG-13', 'R', nan, 'PG', 'G', 'Passed', 'TV-14',\n",
       "       '16', 'TV-MA', 'Unrated', 'GP', 'Approved', 'TV-PG', 'U/A'],\n",
       "      dtype=object)"
      ]
     },
     "execution_count": 1466,
     "metadata": {},
     "output_type": "execute_result"
    }
   ],
   "source": [
    "dados = dados.drop(columns='Unnamed: 0')\n",
    "#removendo a coluna desnecessária\n",
    "\n",
    "dados.Certificate.unique()\n",
    "#observar os valores únicos"
   ]
  },
  {
   "cell_type": "markdown",
   "metadata": {},
   "source": [
    "Agora vou modificar o tipo de dado da minha coluna 'Released_Year', passando de object para inteiro, nao trabalharei com ele diretamente como data."
   ]
  },
  {
   "cell_type": "code",
   "execution_count": 1467,
   "metadata": {},
   "outputs": [],
   "source": [
    "dados['Released_Year'] = pd.to_numeric(dados['Released_Year'], errors='coerce', downcast='integer')\n",
    "dados.dropna(subset=['Released_Year'], inplace=True)\n",
    "#remoção de um dos dados com problema\n",
    "\n",
    "dados['Released_Year'] = dados['Released_Year'].astype('int')\n",
    "#mudando o tipo de dado e substituindo no meu dataframe"
   ]
  },
  {
   "cell_type": "markdown",
   "metadata": {},
   "source": [
    "Aqui um dos valores do conjunto de dados apresenta um problema apos a transformação, entao ele foi removido do conjunto do dataframe. \n",
    "\n",
    "A coluna 'Runtime', que indica o tempo de duração, também será transferido para valor inteiro e a coluna será alterada para o nome de 'Runtime_min', indicando que a duração dos filmes está em minutos e removendo os 'min' que eram encontrados em cada linha."
   ]
  },
  {
   "cell_type": "code",
   "execution_count": 1468,
   "metadata": {},
   "outputs": [],
   "source": [
    "dados['Runtime'] = dados['Runtime'].str.replace(' min', '').astype(int)\n",
    "dados = dados.rename(columns={'Runtime': 'Runtime_min'})\n",
    "#modificando o tipo de dado e alterando o nome da minha coluna para algo mais descritivo"
   ]
  },
  {
   "cell_type": "markdown",
   "metadata": {},
   "source": [
    "Abaixo faço a modificação do 'cross', faturamento, modificando o tipo 'object' para valor numerico."
   ]
  },
  {
   "cell_type": "code",
   "execution_count": 1469,
   "metadata": {},
   "outputs": [],
   "source": [
    "dados['Gross'] = dados['Gross'].str.replace(',','')\n",
    "dados['Gross'] = pd.to_numeric(dados['Gross'], errors='coerce')\n",
    "#passando cross para o valor numerico"
   ]
  },
  {
   "cell_type": "markdown",
   "metadata": {},
   "source": [
    "Agora vou substituir pelo valor médio do meu conjunto de dados nas linhas faltantes de 'Meta_score' e 'Gross',  apesar de existirem outras abordagens para tratar dados faltantes meu objetivo aqui é trabalhar da melhor forma para obter a maior quantidade possivel de dados sem prejudicar as informações.\n"
   ]
  },
  {
   "cell_type": "code",
   "execution_count": 1470,
   "metadata": {},
   "outputs": [
    {
     "name": "stdout",
     "output_type": "stream",
     "text": [
      "Meta_score    0\n",
      "Gross         0\n",
      "dtype: int64\n"
     ]
    }
   ],
   "source": [
    "media_score = dados.Meta_score.mean()\n",
    "media_gross = dados.Gross.mean()\n",
    "#pegando os valores medios das colunas\n",
    "\n",
    "dados.Meta_score = dados.Meta_score.fillna(media_score)\n",
    "dados.Gross = dados.Gross.fillna(media_gross)\n",
    "#substituindo com os valores medios de cada valor vazio\n",
    "\n",
    "print(dados[['Meta_score', 'Gross']].isnull().sum())\n",
    "#verificando se ainda existem valores vazios, se der diferente de zero ainda existem"
   ]
  },
  {
   "cell_type": "code",
   "execution_count": 1471,
   "metadata": {},
   "outputs": [
    {
     "name": "stdout",
     "output_type": "stream",
     "text": [
      "<class 'pandas.core.frame.DataFrame'>\n",
      "Int64Index: 998 entries, 0 to 998\n",
      "Data columns (total 15 columns):\n",
      " #   Column         Non-Null Count  Dtype  \n",
      "---  ------         --------------  -----  \n",
      " 0   Series_Title   998 non-null    object \n",
      " 1   Released_Year  998 non-null    int64  \n",
      " 2   Certificate    897 non-null    object \n",
      " 3   Runtime_min    998 non-null    int64  \n",
      " 4   Genre          998 non-null    object \n",
      " 5   IMDB_Rating    998 non-null    float64\n",
      " 6   Overview       998 non-null    object \n",
      " 7   Meta_score     998 non-null    float64\n",
      " 8   Director       998 non-null    object \n",
      " 9   Star1          998 non-null    object \n",
      " 10  Star2          998 non-null    object \n",
      " 11  Star3          998 non-null    object \n",
      " 12  Star4          998 non-null    object \n",
      " 13  No_of_Votes    998 non-null    int64  \n",
      " 14  Gross          998 non-null    float64\n",
      "dtypes: float64(3), int64(3), object(9)\n",
      "memory usage: 124.8+ KB\n"
     ]
    }
   ],
   "source": [
    "dados.info()"
   ]
  },
  {
   "cell_type": "markdown",
   "metadata": {},
   "source": [
    "Agora meu conjunto de dados está mais organizado e limpo, melhorando a qualidade das informações e permitindo que eu avance nos objetivos do projeto.\n",
    "\n",
    "### Observando os valores dos dados\n",
    "Agora vou análisar a distribuição de valores dos nossos conjuntos de dados. Antes de fazer isso eu vou fazer uma pequena modificação no 'Meta_score', que são as notas dos criticos, deixando eles de 0 a 10 como as notas que vieram do IMDB, facilitando uma comparação entre as notas do IMDB e as notas dos criticos. "
   ]
  },
  {
   "cell_type": "code",
   "execution_count": 1472,
   "metadata": {},
   "outputs": [
    {
     "data": {
      "text/html": [
       "<div>\n",
       "<style scoped>\n",
       "    .dataframe tbody tr th:only-of-type {\n",
       "        vertical-align: middle;\n",
       "    }\n",
       "\n",
       "    .dataframe tbody tr th {\n",
       "        vertical-align: top;\n",
       "    }\n",
       "\n",
       "    .dataframe thead th {\n",
       "        text-align: right;\n",
       "    }\n",
       "</style>\n",
       "<table border=\"1\" class=\"dataframe\">\n",
       "  <thead>\n",
       "    <tr style=\"text-align: right;\">\n",
       "      <th></th>\n",
       "      <th>Released_Year</th>\n",
       "      <th>Runtime_min</th>\n",
       "      <th>IMDB_Rating</th>\n",
       "      <th>Meta_score</th>\n",
       "      <th>No_of_Votes</th>\n",
       "      <th>Gross</th>\n",
       "    </tr>\n",
       "  </thead>\n",
       "  <tbody>\n",
       "    <tr>\n",
       "      <th>count</th>\n",
       "      <td>998.000000</td>\n",
       "      <td>998.000000</td>\n",
       "      <td>998.000000</td>\n",
       "      <td>998.000000</td>\n",
       "      <td>9.980000e+02</td>\n",
       "      <td>9.980000e+02</td>\n",
       "    </tr>\n",
       "    <tr>\n",
       "      <th>mean</th>\n",
       "      <td>1991.214429</td>\n",
       "      <td>122.854709</td>\n",
       "      <td>7.948297</td>\n",
       "      <td>7.797027</td>\n",
       "      <td>2.716239e+05</td>\n",
       "      <td>6.795500e+07</td>\n",
       "    </tr>\n",
       "    <tr>\n",
       "      <th>std</th>\n",
       "      <td>23.308539</td>\n",
       "      <td>28.110078</td>\n",
       "      <td>0.272203</td>\n",
       "      <td>1.137323</td>\n",
       "      <td>3.210735e+05</td>\n",
       "      <td>1.000734e+08</td>\n",
       "    </tr>\n",
       "    <tr>\n",
       "      <th>min</th>\n",
       "      <td>1920.000000</td>\n",
       "      <td>45.000000</td>\n",
       "      <td>7.600000</td>\n",
       "      <td>2.800000</td>\n",
       "      <td>2.508800e+04</td>\n",
       "      <td>1.305000e+03</td>\n",
       "    </tr>\n",
       "    <tr>\n",
       "      <th>25%</th>\n",
       "      <td>1976.000000</td>\n",
       "      <td>103.000000</td>\n",
       "      <td>7.700000</td>\n",
       "      <td>7.200000</td>\n",
       "      <td>5.541675e+04</td>\n",
       "      <td>5.010758e+06</td>\n",
       "    </tr>\n",
       "    <tr>\n",
       "      <th>50%</th>\n",
       "      <td>1999.000000</td>\n",
       "      <td>119.000000</td>\n",
       "      <td>7.900000</td>\n",
       "      <td>7.797027</td>\n",
       "      <td>1.381685e+05</td>\n",
       "      <td>4.238945e+07</td>\n",
       "    </tr>\n",
       "    <tr>\n",
       "      <th>75%</th>\n",
       "      <td>2009.000000</td>\n",
       "      <td>136.750000</td>\n",
       "      <td>8.100000</td>\n",
       "      <td>8.575000</td>\n",
       "      <td>3.735062e+05</td>\n",
       "      <td>6.795500e+07</td>\n",
       "    </tr>\n",
       "    <tr>\n",
       "      <th>max</th>\n",
       "      <td>2020.000000</td>\n",
       "      <td>321.000000</td>\n",
       "      <td>9.200000</td>\n",
       "      <td>10.000000</td>\n",
       "      <td>2.303232e+06</td>\n",
       "      <td>9.366622e+08</td>\n",
       "    </tr>\n",
       "  </tbody>\n",
       "</table>\n",
       "</div>"
      ],
      "text/plain": [
       "       Released_Year  Runtime_min  IMDB_Rating  Meta_score   No_of_Votes  \\\n",
       "count     998.000000   998.000000   998.000000  998.000000  9.980000e+02   \n",
       "mean     1991.214429   122.854709     7.948297    7.797027  2.716239e+05   \n",
       "std        23.308539    28.110078     0.272203    1.137323  3.210735e+05   \n",
       "min      1920.000000    45.000000     7.600000    2.800000  2.508800e+04   \n",
       "25%      1976.000000   103.000000     7.700000    7.200000  5.541675e+04   \n",
       "50%      1999.000000   119.000000     7.900000    7.797027  1.381685e+05   \n",
       "75%      2009.000000   136.750000     8.100000    8.575000  3.735062e+05   \n",
       "max      2020.000000   321.000000     9.200000   10.000000  2.303232e+06   \n",
       "\n",
       "              Gross  \n",
       "count  9.980000e+02  \n",
       "mean   6.795500e+07  \n",
       "std    1.000734e+08  \n",
       "min    1.305000e+03  \n",
       "25%    5.010758e+06  \n",
       "50%    4.238945e+07  \n",
       "75%    6.795500e+07  \n",
       "max    9.366622e+08  "
      ]
     },
     "execution_count": 1472,
     "metadata": {},
     "output_type": "execute_result"
    }
   ],
   "source": [
    "dados.Meta_score = dados.Meta_score/10\n",
    "# colocando os valores da nota de 0 a 10, assim como as notas do IMDB\n",
    "\n",
    "dados.describe()"
   ]
  },
  {
   "cell_type": "markdown",
   "metadata": {},
   "source": [
    "Aqui vemos que a distribuição de notas do imdb, dada na coluna 'IMDB_Rating', varia suas notas de 0 a 10, entretanto nosso conjunto de dados concentra a menor nota no valor de 7.6 e a maior sendo 9.2, mas a concentração de 75% dos valores ocorre nota 8.1 para baixo. Colocarei um plot do histograma dessas notas abaixo para ter uma visualização como apoio para essa afirmação.\n"
   ]
  },
  {
   "cell_type": "code",
   "execution_count": 1473,
   "metadata": {},
   "outputs": [
    {
     "data": {
      "image/png": "[encoded data removed]",
      "text/plain": [
       "<Figure size 640x480 with 1 Axes>"
      ]
     },
     "metadata": {},
     "output_type": "display_data"
    }
   ],
   "source": [
    "dados.IMDB_Rating.plot(kind='hist');"
   ]
  },
  {
   "cell_type": "code",
   "execution_count": 1474,
   "metadata": {},
   "outputs": [
    {
     "data": {
      "text/plain": [
       "<Axes: >"
      ]
     },
     "execution_count": 1474,
     "metadata": {},
     "output_type": "execute_result"
    },
    {
     "data": {
      "image/png": "[encoded data removed]",
      "text/plain": [
       "<Figure size 640x480 with 1 Axes>"
      ]
     },
     "metadata": {},
     "output_type": "display_data"
    }
   ],
   "source": [
    "dados[['IMDB_Rating']].boxplot()"
   ]
  },
  {
   "cell_type": "markdown",
   "metadata": {},
   "source": [
    "Essa coluna mostra como nosso conjunto de dados esta inviezado quando o assunto é notas, uma vez que todos as notas apresentam valores acima de 7.6 e 75% deles abaixo de 8.1 (ou seja, 75% das notas estão presentes em 0.5 pontos de variação apenas, apenas 5% do valor máximo dentro dessa coluna), também observa-se grande concentração de notas abaixo de 50%, que variam só 0.3 na notas totais, o que é bem baixo. No geral essa coluna apresenta valores bem elevados para os filmes. Também fica claro a presença de alguns outliers dentro do nosso conjunto de dados, mesmo sendo relativamente poucos eles ainda podem influenciar nosso modelo de ML, então falaremos sobre os outliers observados novamente na hora do desenvolvimento do modelo pedido.\n",
    "\n",
    "A coluna 'Meta_score', trazendo uma maior abrangência de valores de notas, variando de 28 até 100 as notas dos criticos. Para uma visualização melhor e normalização da proporção das notas de pessoas do IMDB e da critica especilizada eu coloquei as notas dos criticos de 0 a 10, mantendo a proporção."
   ]
  },
  {
   "cell_type": "code",
   "execution_count": 1475,
   "metadata": {},
   "outputs": [
    {
     "data": {
      "image/png": "[encoded data removed]",
      "text/plain": [
       "<Figure size 640x480 with 1 Axes>"
      ]
     },
     "metadata": {},
     "output_type": "display_data"
    }
   ],
   "source": [
    "dados.Meta_score.plot(kind='hist');"
   ]
  },
  {
   "cell_type": "code",
   "execution_count": 1476,
   "metadata": {},
   "outputs": [
    {
     "data": {
      "text/plain": [
       "<Axes: >"
      ]
     },
     "execution_count": 1476,
     "metadata": {},
     "output_type": "execute_result"
    },
    {
     "data": {
      "image/png": "[encoded data removed]",
      "text/plain": [
       "<Figure size 640x480 with 1 Axes>"
      ]
     },
     "metadata": {},
     "output_type": "display_data"
    }
   ],
   "source": [
    "dados[['Meta_score']].boxplot()"
   ]
  },
  {
   "cell_type": "markdown",
   "metadata": {},
   "source": [
    "Aqui encontrei uma maior gama de variedade de notas vindas dos criticos, sendo uma concentração de notas onde 75% das notas estão abaixo de 8,5 e 25% dos dados estão abaixo de 7,2 (aqui a variação das notas abaixo dos 75% é de 5.7 pontos, bem mais abrangente que as notas do IMDB). Apesar da maior variação de notas, ainda econtramos uma maior concentração dos dados em uma faixa de notas próximas ao do IMDB, entretanto os outliers dessa vez se encontram nos filmes com notas muito baixas, isso indica que no geral as pessoas tendem a estipular notas para os filmes dentro dessa faixa média, nem sendo muito bons ou muito ruins, valendo essa concentração tanto para pessoas no geral como para criticos, mas os criticos possuem uma maior tendencia a darem notas mais baixas para filmes que eles consideram realmente ruins, por isso os outliers mais baixos no nosso conjunto de dados. A maior faixa dentro das notas dos criticos permite uma maior variabilidade.\n",
    "\n",
    "Com essa noção geral das notas dos filmes outro valor relevante dentro do conjunto de dados é o  'Gross' de cada filmes, ou seja, como descrito mais acima desse relatório, seria o faturamento dos nossos filmes."
   ]
  },
  {
   "cell_type": "code",
   "execution_count": 1477,
   "metadata": {},
   "outputs": [
    {
     "data": {
      "image/png": "[encoded data removed]",
      "text/plain": [
       "<Figure size 640x480 with 1 Axes>"
      ]
     },
     "metadata": {},
     "output_type": "display_data"
    }
   ],
   "source": [
    "dados.Gross.plot(kind='hist');"
   ]
  },
  {
   "cell_type": "markdown",
   "metadata": {},
   "source": [
    "No gráfico acima temos a maior concentração de lucro dos filmes sendo abaixo dos 100 milhoes, onde quase 800 casos dos 998 estão nessa faixa de valor, e 900 casos abaixo dos 200 milhões,trazendo outliers para esse dado e também indicando que a maioria dos filmes não consegue grandes bilheterias e existem grandes chances de o filme que está sendo trabalhado cair dentro desse lucro para a empresa. Para termos uma visão um pouco mais aprimorada sobre esse fator podemos observar a matriz de correlação da nossa coluna de faturamento assim como um boxplot."
   ]
  },
  {
   "cell_type": "code",
   "execution_count": 1478,
   "metadata": {},
   "outputs": [
    {
     "data": {
      "image/png": "[encoded data removed]",
      "text/plain": [
       "<Figure size 640x480 with 1 Axes>"
      ]
     },
     "metadata": {},
     "output_type": "display_data"
    }
   ],
   "source": [
    "dados[['Gross']].boxplot();"
   ]
  },
  {
   "cell_type": "markdown",
   "metadata": {},
   "source": [
    "Aqui no boxplot fica perceptivel que como filmes que lucram mais de 180 milhões aproximadamente já são considerados outliers dentro da nossa amostra, na prática isso quer dizer que a empresa que busca o investimento deve estar ciente do risco e do investimento elevado em um filme trás."
   ]
  },
  {
   "cell_type": "markdown",
   "metadata": {},
   "source": [
    "## As questões definidas pelo desafio\n",
    "\n",
    "#### Qual filme você recomendaria para uma pessoa que você não conhece?\n",
    "\n",
    "A nossa primeira pergunta é sobre uma indicação de filme para alguém que nao conhecemos. Podemos iniciar o raciocionio dessa resposta excluindo fatores menos relevantes para indicação de um filme, que no caso o número de votos pode ser retirado, pois o número de votos não influencia na qualidade ou na atração que alguém pode sentir para assistir um filme, o mesmo vale para o faturamento direto do filme, que pode ser removido pois, no geral, as pessoas não pensam em faturamento na escolha do filme. Entretanto todo o restante pode ser elencado, por exemplo o tempo do filme caso a pessoa queira, a classficação etária e assim em diante.\n",
    "\n",
    "Sobre o que pode dizer mais a respeito do filme que vou indicar acredito que o melhor caminho é uma análise das notas, podemos até fazer uma coluna extra com a média das notas de todos os filmes levando em conta a nota do IMDB e a nota dos criticos, como eu eu deixei eles na mesma base, de zero a dez, posso fazer a nota média entre essas colunas e encontram um novo valor para cada filme, excluindo assim os filmes tidos como ruins pela critica e bons pelos votos do IMDB. Isso também possibilita até um valor ponderado, por exemplo, se eu quiser levar um peso duas vezes maior dos votos do IMDB, ou dos criticos, e fazer uma média nessa proporção, mas no caso so farei o valor médio.\n",
    "\n",
    "O outro ponto relevante é o genero do filme que essa pessoa gosta, existem diversos generos diferentes no nosso conjunto de dados e isso é extremamente relevante para a pessoa gostar do filme. As estrelas do filme são o que a pessoa procura? O diretor que sempre coloca sua assinatura no filme que a pessoa gosta? Para responder essas perguntas existem muitos caminhos, mas podemos separar nosso conjunto de dados com base nesses raciocionios e deixaremos um menor número de opções, facilitando a escolha do filme dentro desse conjunto de dados pré selecionados."
   ]
  },
  {
   "cell_type": "code",
   "execution_count": 1479,
   "metadata": {},
   "outputs": [
    {
     "name": "stdout",
     "output_type": "stream",
     "text": [
      "<class 'pandas.core.frame.DataFrame'>\n",
      "Int64Index: 375 entries, 0 to 998\n",
      "Data columns (total 12 columns):\n",
      " #   Column        Non-Null Count  Dtype  \n",
      "---  ------        --------------  -----  \n",
      " 0   Series_Title  375 non-null    object \n",
      " 1   Runtime_min   375 non-null    int64  \n",
      " 2   Genre         375 non-null    object \n",
      " 3   IMDB_Rating   375 non-null    float64\n",
      " 4   Overview      375 non-null    object \n",
      " 5   Meta_score    375 non-null    float64\n",
      " 6   Director      375 non-null    object \n",
      " 7   Star1         375 non-null    object \n",
      " 8   Star2         375 non-null    object \n",
      " 9   Star3         375 non-null    object \n",
      " 10  Star4         375 non-null    object \n",
      " 11  rating_mean   375 non-null    float64\n",
      "dtypes: float64(3), int64(1), object(8)\n",
      "memory usage: 38.1+ KB\n"
     ]
    }
   ],
   "source": [
    "indicação = dados.drop(columns=['Released_Year','Certificate', 'No_of_Votes', 'Gross'])\n",
    "indicação['rating_mean'] = (indicação.IMDB_Rating + indicação.Meta_score)/2\n",
    "#coluna dos valores médios da notas\n",
    "\n",
    "indicação = indicação.loc[indicação.rating_mean > 8.0]\n",
    "indicação.info()"
   ]
  },
  {
   "cell_type": "markdown",
   "metadata": {},
   "source": [
    "Agora o conjunto de dados denominado 'indicação' possuo 375 opções de filmes que possuem boa nota tanto dos criticos quanto do IMDB, elevando as chances da pessoa gostar do filme, lembrando que o valor de nota 8 foi estipulado puramente em como basear a escolha em notas mais altas. Agora, respondendo a pergunta diretamente, qual o filme eu indicaria? Bom, eu deixaria organizado da maior nota para a menor e começaria indicando os filmes com maiores notas medias dos filmes."
   ]
  },
  {
   "cell_type": "code",
   "execution_count": 1480,
   "metadata": {},
   "outputs": [
    {
     "data": {
      "text/html": [
       "<div>\n",
       "<style scoped>\n",
       "    .dataframe tbody tr th:only-of-type {\n",
       "        vertical-align: middle;\n",
       "    }\n",
       "\n",
       "    .dataframe tbody tr th {\n",
       "        vertical-align: top;\n",
       "    }\n",
       "\n",
       "    .dataframe thead th {\n",
       "        text-align: right;\n",
       "    }\n",
       "</style>\n",
       "<table border=\"1\" class=\"dataframe\">\n",
       "  <thead>\n",
       "    <tr style=\"text-align: right;\">\n",
       "      <th></th>\n",
       "      <th>Series_Title</th>\n",
       "      <th>Runtime_min</th>\n",
       "      <th>Genre</th>\n",
       "      <th>IMDB_Rating</th>\n",
       "      <th>Overview</th>\n",
       "      <th>Meta_score</th>\n",
       "      <th>Director</th>\n",
       "      <th>Star1</th>\n",
       "      <th>Star2</th>\n",
       "      <th>Star3</th>\n",
       "      <th>Star4</th>\n",
       "      <th>rating_mean</th>\n",
       "    </tr>\n",
       "  </thead>\n",
       "  <tbody>\n",
       "    <tr>\n",
       "      <th>0</th>\n",
       "      <td>The Godfather</td>\n",
       "      <td>175</td>\n",
       "      <td>Crime, Drama</td>\n",
       "      <td>9.2</td>\n",
       "      <td>An organized crime dynasty's aging patriarch t...</td>\n",
       "      <td>10.0</td>\n",
       "      <td>Francis Ford Coppola</td>\n",
       "      <td>Marlon Brando</td>\n",
       "      <td>Al Pacino</td>\n",
       "      <td>James Caan</td>\n",
       "      <td>Diane Keaton</td>\n",
       "      <td>9.60</td>\n",
       "    </tr>\n",
       "    <tr>\n",
       "      <th>3</th>\n",
       "      <td>12 Angry Men</td>\n",
       "      <td>96</td>\n",
       "      <td>Crime, Drama</td>\n",
       "      <td>9.0</td>\n",
       "      <td>A jury holdout attempts to prevent a miscarria...</td>\n",
       "      <td>9.6</td>\n",
       "      <td>Sidney Lumet</td>\n",
       "      <td>Henry Fonda</td>\n",
       "      <td>Lee J. Cobb</td>\n",
       "      <td>Martin Balsam</td>\n",
       "      <td>John Fiedler</td>\n",
       "      <td>9.30</td>\n",
       "    </tr>\n",
       "    <tr>\n",
       "      <th>49</th>\n",
       "      <td>Casablanca</td>\n",
       "      <td>102</td>\n",
       "      <td>Drama, Romance, War</td>\n",
       "      <td>8.5</td>\n",
       "      <td>A cynical expatriate American cafe owner strug...</td>\n",
       "      <td>10.0</td>\n",
       "      <td>Michael Curtiz</td>\n",
       "      <td>Humphrey Bogart</td>\n",
       "      <td>Ingrid Bergman</td>\n",
       "      <td>Paul Henreid</td>\n",
       "      <td>Claude Rains</td>\n",
       "      <td>9.25</td>\n",
       "    </tr>\n",
       "    <tr>\n",
       "      <th>51</th>\n",
       "      <td>City Lights</td>\n",
       "      <td>87</td>\n",
       "      <td>Comedy, Drama, Romance</td>\n",
       "      <td>8.5</td>\n",
       "      <td>With the aid of a wealthy erratic tippler, a d...</td>\n",
       "      <td>9.9</td>\n",
       "      <td>Charles Chaplin</td>\n",
       "      <td>Charles Chaplin</td>\n",
       "      <td>Virginia Cherrill</td>\n",
       "      <td>Florence Lee</td>\n",
       "      <td>Harry Myers</td>\n",
       "      <td>9.20</td>\n",
       "    </tr>\n",
       "    <tr>\n",
       "      <th>80</th>\n",
       "      <td>Rear Window</td>\n",
       "      <td>112</td>\n",
       "      <td>Mystery, Thriller</td>\n",
       "      <td>8.4</td>\n",
       "      <td>A wheelchair-bound photographer spies on his n...</td>\n",
       "      <td>10.0</td>\n",
       "      <td>Alfred Hitchcock</td>\n",
       "      <td>James Stewart</td>\n",
       "      <td>Grace Kelly</td>\n",
       "      <td>Wendell Corey</td>\n",
       "      <td>Thelma Ritter</td>\n",
       "      <td>9.20</td>\n",
       "    </tr>\n",
       "    <tr>\n",
       "      <th>30</th>\n",
       "      <td>Shichinin no samurai</td>\n",
       "      <td>207</td>\n",
       "      <td>Action, Adventure, Drama</td>\n",
       "      <td>8.6</td>\n",
       "      <td>A poor village under attack by bandits recruit...</td>\n",
       "      <td>9.8</td>\n",
       "      <td>Akira Kurosawa</td>\n",
       "      <td>Toshirô Mifune</td>\n",
       "      <td>Takashi Shimura</td>\n",
       "      <td>Keiko Tsushima</td>\n",
       "      <td>Yukiko Shimazaki</td>\n",
       "      <td>9.20</td>\n",
       "    </tr>\n",
       "    <tr>\n",
       "      <th>115</th>\n",
       "      <td>Lawrence of Arabia</td>\n",
       "      <td>228</td>\n",
       "      <td>Adventure, Biography, Drama</td>\n",
       "      <td>8.3</td>\n",
       "      <td>The story of T.E. Lawrence, the English office...</td>\n",
       "      <td>10.0</td>\n",
       "      <td>David Lean</td>\n",
       "      <td>Peter O'Toole</td>\n",
       "      <td>Alec Guinness</td>\n",
       "      <td>Anthony Quinn</td>\n",
       "      <td>Jack Hawkins</td>\n",
       "      <td>9.15</td>\n",
       "    </tr>\n",
       "    <tr>\n",
       "      <th>4</th>\n",
       "      <td>The Lord of the Rings: The Return of the King</td>\n",
       "      <td>201</td>\n",
       "      <td>Action, Adventure, Drama</td>\n",
       "      <td>8.9</td>\n",
       "      <td>Gandalf and Aragorn lead the World of Men agai...</td>\n",
       "      <td>9.4</td>\n",
       "      <td>Peter Jackson</td>\n",
       "      <td>Elijah Wood</td>\n",
       "      <td>Viggo Mortensen</td>\n",
       "      <td>Ian McKellen</td>\n",
       "      <td>Orlando Bloom</td>\n",
       "      <td>9.15</td>\n",
       "    </tr>\n",
       "    <tr>\n",
       "      <th>5</th>\n",
       "      <td>Pulp Fiction</td>\n",
       "      <td>154</td>\n",
       "      <td>Crime, Drama</td>\n",
       "      <td>8.9</td>\n",
       "      <td>The lives of two mob hitmen, a boxer, a gangst...</td>\n",
       "      <td>9.4</td>\n",
       "      <td>Quentin Tarantino</td>\n",
       "      <td>John Travolta</td>\n",
       "      <td>Uma Thurman</td>\n",
       "      <td>Samuel L. Jackson</td>\n",
       "      <td>Bruce Willis</td>\n",
       "      <td>9.15</td>\n",
       "    </tr>\n",
       "    <tr>\n",
       "      <th>6</th>\n",
       "      <td>Schindler's List</td>\n",
       "      <td>195</td>\n",
       "      <td>Biography, Drama, History</td>\n",
       "      <td>8.9</td>\n",
       "      <td>In German-occupied Poland during World War II,...</td>\n",
       "      <td>9.4</td>\n",
       "      <td>Steven Spielberg</td>\n",
       "      <td>Liam Neeson</td>\n",
       "      <td>Ralph Fiennes</td>\n",
       "      <td>Ben Kingsley</td>\n",
       "      <td>Caroline Goodall</td>\n",
       "      <td>9.15</td>\n",
       "    </tr>\n",
       "  </tbody>\n",
       "</table>\n",
       "</div>"
      ],
      "text/plain": [
       "                                      Series_Title  Runtime_min  \\\n",
       "0                                    The Godfather          175   \n",
       "3                                     12 Angry Men           96   \n",
       "49                                      Casablanca          102   \n",
       "51                                     City Lights           87   \n",
       "80                                     Rear Window          112   \n",
       "30                            Shichinin no samurai          207   \n",
       "115                             Lawrence of Arabia          228   \n",
       "4    The Lord of the Rings: The Return of the King          201   \n",
       "5                                     Pulp Fiction          154   \n",
       "6                                 Schindler's List          195   \n",
       "\n",
       "                           Genre  IMDB_Rating  \\\n",
       "0                   Crime, Drama          9.2   \n",
       "3                   Crime, Drama          9.0   \n",
       "49           Drama, Romance, War          8.5   \n",
       "51        Comedy, Drama, Romance          8.5   \n",
       "80             Mystery, Thriller          8.4   \n",
       "30      Action, Adventure, Drama          8.6   \n",
       "115  Adventure, Biography, Drama          8.3   \n",
       "4       Action, Adventure, Drama          8.9   \n",
       "5                   Crime, Drama          8.9   \n",
       "6      Biography, Drama, History          8.9   \n",
       "\n",
       "                                              Overview  Meta_score  \\\n",
       "0    An organized crime dynasty's aging patriarch t...        10.0   \n",
       "3    A jury holdout attempts to prevent a miscarria...         9.6   \n",
       "49   A cynical expatriate American cafe owner strug...        10.0   \n",
       "51   With the aid of a wealthy erratic tippler, a d...         9.9   \n",
       "80   A wheelchair-bound photographer spies on his n...        10.0   \n",
       "30   A poor village under attack by bandits recruit...         9.8   \n",
       "115  The story of T.E. Lawrence, the English office...        10.0   \n",
       "4    Gandalf and Aragorn lead the World of Men agai...         9.4   \n",
       "5    The lives of two mob hitmen, a boxer, a gangst...         9.4   \n",
       "6    In German-occupied Poland during World War II,...         9.4   \n",
       "\n",
       "                 Director            Star1              Star2  \\\n",
       "0    Francis Ford Coppola    Marlon Brando          Al Pacino   \n",
       "3            Sidney Lumet      Henry Fonda        Lee J. Cobb   \n",
       "49         Michael Curtiz  Humphrey Bogart     Ingrid Bergman   \n",
       "51        Charles Chaplin  Charles Chaplin  Virginia Cherrill   \n",
       "80       Alfred Hitchcock    James Stewart        Grace Kelly   \n",
       "30         Akira Kurosawa   Toshirô Mifune    Takashi Shimura   \n",
       "115            David Lean    Peter O'Toole      Alec Guinness   \n",
       "4           Peter Jackson      Elijah Wood    Viggo Mortensen   \n",
       "5       Quentin Tarantino    John Travolta        Uma Thurman   \n",
       "6        Steven Spielberg      Liam Neeson      Ralph Fiennes   \n",
       "\n",
       "                 Star3             Star4  rating_mean  \n",
       "0           James Caan      Diane Keaton         9.60  \n",
       "3        Martin Balsam      John Fiedler         9.30  \n",
       "49        Paul Henreid      Claude Rains         9.25  \n",
       "51        Florence Lee       Harry Myers         9.20  \n",
       "80       Wendell Corey     Thelma Ritter         9.20  \n",
       "30      Keiko Tsushima  Yukiko Shimazaki         9.20  \n",
       "115      Anthony Quinn      Jack Hawkins         9.15  \n",
       "4         Ian McKellen     Orlando Bloom         9.15  \n",
       "5    Samuel L. Jackson      Bruce Willis         9.15  \n",
       "6         Ben Kingsley  Caroline Goodall         9.15  "
      ]
     },
     "execution_count": 1480,
     "metadata": {},
     "output_type": "execute_result"
    }
   ],
   "source": [
    "indicação_ordenado = indicação.sort_values(by='rating_mean', ascending=False)\n",
    "indicação_ordenado.head(10)"
   ]
  },
  {
   "cell_type": "markdown",
   "metadata": {},
   "source": [
    "Acima encontra-se os 10 filmes com as maiores notas médias do nosso conjunto de dados, olharia essa imagem combinada com o gênero que a pessoa mais gosta e indicaria um filme, agora olhando só pela questão das médias das notas encontradas nos filmes no caso a indicação seria 'The GodFather', que por sinal é um filme excelente."
   ]
  },
  {
   "cell_type": "markdown",
   "metadata": {},
   "source": [
    "### Quais são os principais fatores que estão relacionados com alta expectativa de faturamento de um filme?\n",
    "Podemos anãliser no nosso relatório a matriz de correlação dos nossos dados."
   ]
  },
  {
   "cell_type": "code",
   "execution_count": 1481,
   "metadata": {},
   "outputs": [
    {
     "data": {
      "text/html": [
       "<div>\n",
       "<style scoped>\n",
       "    .dataframe tbody tr th:only-of-type {\n",
       "        vertical-align: middle;\n",
       "    }\n",
       "\n",
       "    .dataframe tbody tr th {\n",
       "        vertical-align: top;\n",
       "    }\n",
       "\n",
       "    .dataframe thead th {\n",
       "        text-align: right;\n",
       "    }\n",
       "</style>\n",
       "<table border=\"1\" class=\"dataframe\">\n",
       "  <thead>\n",
       "    <tr style=\"text-align: right;\">\n",
       "      <th></th>\n",
       "      <th>Released_Year</th>\n",
       "      <th>Runtime_min</th>\n",
       "      <th>IMDB_Rating</th>\n",
       "      <th>Meta_score</th>\n",
       "      <th>No_of_Votes</th>\n",
       "      <th>Gross</th>\n",
       "    </tr>\n",
       "  </thead>\n",
       "  <tbody>\n",
       "    <tr>\n",
       "      <th>Released_Year</th>\n",
       "      <td>1.000000</td>\n",
       "      <td>0.165765</td>\n",
       "      <td>-0.133257</td>\n",
       "      <td>-0.289292</td>\n",
       "      <td>0.246005</td>\n",
       "      <td>0.192991</td>\n",
       "    </tr>\n",
       "    <tr>\n",
       "      <th>Runtime_min</th>\n",
       "      <td>0.165765</td>\n",
       "      <td>1.000000</td>\n",
       "      <td>0.243778</td>\n",
       "      <td>-0.027878</td>\n",
       "      <td>0.172520</td>\n",
       "      <td>0.124410</td>\n",
       "    </tr>\n",
       "    <tr>\n",
       "      <th>IMDB_Rating</th>\n",
       "      <td>-0.133257</td>\n",
       "      <td>0.243778</td>\n",
       "      <td>1.000000</td>\n",
       "      <td>0.256229</td>\n",
       "      <td>0.479691</td>\n",
       "      <td>0.094443</td>\n",
       "    </tr>\n",
       "    <tr>\n",
       "      <th>Meta_score</th>\n",
       "      <td>-0.289292</td>\n",
       "      <td>-0.027878</td>\n",
       "      <td>0.256229</td>\n",
       "      <td>1.000000</td>\n",
       "      <td>-0.019249</td>\n",
       "      <td>-0.030785</td>\n",
       "    </tr>\n",
       "    <tr>\n",
       "      <th>No_of_Votes</th>\n",
       "      <td>0.246005</td>\n",
       "      <td>0.172520</td>\n",
       "      <td>0.479691</td>\n",
       "      <td>-0.019249</td>\n",
       "      <td>1.000000</td>\n",
       "      <td>0.563944</td>\n",
       "    </tr>\n",
       "    <tr>\n",
       "      <th>Gross</th>\n",
       "      <td>0.192991</td>\n",
       "      <td>0.124410</td>\n",
       "      <td>0.094443</td>\n",
       "      <td>-0.030785</td>\n",
       "      <td>0.563944</td>\n",
       "      <td>1.000000</td>\n",
       "    </tr>\n",
       "  </tbody>\n",
       "</table>\n",
       "</div>"
      ],
      "text/plain": [
       "               Released_Year  Runtime_min  IMDB_Rating  Meta_score  \\\n",
       "Released_Year       1.000000     0.165765    -0.133257   -0.289292   \n",
       "Runtime_min         0.165765     1.000000     0.243778   -0.027878   \n",
       "IMDB_Rating        -0.133257     0.243778     1.000000    0.256229   \n",
       "Meta_score         -0.289292    -0.027878     0.256229    1.000000   \n",
       "No_of_Votes         0.246005     0.172520     0.479691   -0.019249   \n",
       "Gross               0.192991     0.124410     0.094443   -0.030785   \n",
       "\n",
       "               No_of_Votes     Gross  \n",
       "Released_Year     0.246005  0.192991  \n",
       "Runtime_min       0.172520  0.124410  \n",
       "IMDB_Rating       0.479691  0.094443  \n",
       "Meta_score       -0.019249 -0.030785  \n",
       "No_of_Votes       1.000000  0.563944  \n",
       "Gross             0.563944  1.000000  "
      ]
     },
     "execution_count": 1481,
     "metadata": {},
     "output_type": "execute_result"
    }
   ],
   "source": [
    "dados.corr()"
   ]
  },
  {
   "cell_type": "markdown",
   "metadata": {},
   "source": [
    "Aqui temos uma forte influencia do número de votos com o faturamento, ou seja, o filme mais visto foi votado muitas vezes, tendo um valor de 0.56, podendo variar de -1, influência diretamente negativa, e mais 1, influência diretamente positiva. Como o filme foi votado muitas vezes ele foi o mais visto, logo teve a maior bilheteria e o maior faturamento.\n",
    "\n",
    "Outros pontos que influenciam nosso faturamento é o ano de lançamento, podemos dar uma olhada nos últimos anos de lançamento do nosso conjunto de dados e buscar uma ideia do comportamento dos filmes recentes dentro do nosso conjunto de dados. Fazendo uma consulta rapida do último ano de lançamento do conjunto de dados temos que o último ano é de 2020,trabalharei do periodo de 2014 até 2020 para termos uma ideia dos lucros desse periodo, que considero uma análise do periodo recente dos filmes, uma vez que não podemos lançar um filme no passado, obviamente."
   ]
  },
  {
   "cell_type": "code",
   "execution_count": 1482,
   "metadata": {},
   "outputs": [
    {
     "name": "stdout",
     "output_type": "stream",
     "text": [
      "113564978.14148694\n"
     ]
    }
   ],
   "source": [
    "filtered_time = dados.loc[dados['Released_Year'] > 2014]\n",
    "print(filtered_time.Gross.mean())"
   ]
  },
  {
   "cell_type": "markdown",
   "metadata": {},
   "source": [
    "Aqui temos que o faturamento médio dos últimos anos dos filmes lançados, de 2014 até 2020, foi de 113 milhões, o que está dentro da nossa análise e que trás uma idéia do valor médio que a empresa pode estipuar dentro do seu faturamento. Um periodo um pouco mais recente seria melhor, mas já temos uma boa noção do comportamento do lucro dos filmes recentes.\n",
    "\n",
    "A terceira maior influência dos valores de faturamento dos filmes é o tempo de duração que o filme tem, isso pode auxiliar a empresa a estipular um tempo de duração para conseguir ser mais acertiva em um bom lucro."
   ]
  },
  {
   "cell_type": "code",
   "execution_count": 1483,
   "metadata": {},
   "outputs": [
    {
     "name": "stdout",
     "output_type": "stream",
     "text": [
      "129.08641975308643\n",
      "26.19643782662214\n"
     ]
    },
    {
     "data": {
      "image/png": "[encoded data removed]",
      "text/plain": [
       "<Figure size 640x480 with 1 Axes>"
      ]
     },
     "metadata": {},
     "output_type": "display_data"
    }
   ],
   "source": [
    "filtered_gross = dados.loc[dados['Gross'] > 113000000.00]\n",
    "#113 milhoes de filtro pois é o valor médio estipulado a cima\n",
    "\n",
    "print(filtered_gross.Runtime_min.mean())\n",
    "print(filtered_gross['Runtime_min'].describe()['std'])\n",
    "\n",
    "filtered_gross[['Runtime_min']].boxplot();"
   ]
  },
  {
   "cell_type": "markdown",
   "metadata": {},
   "source": [
    "Aqui tem-se que o filmes com maiores faturamentos, acima dos 113 milhões, possuem aproximadamemnte 2 horas a 2 horas e 10 minutos, indicando que essa é a média de tempo estipulado para o filme que será produzido. Nossa coluna de tempo de filme possui uma variação de erro de tempo de 26 minutos, então o ideal é que o filme esteja na faixa de 103 minutos até 155 minutos, mas próximo aos 129 minutos.\n",
    "\n",
    "Um outro raciocinio dentro desse mesmo filtro é o questionamento de que se os filmes com maior faturamentos possuem maiores notas médias, tanto pelo IMDB quanto pelo voto dos criticos."
   ]
  },
  {
   "cell_type": "code",
   "execution_count": 1484,
   "metadata": {},
   "outputs": [
    {
     "name": "stdout",
     "output_type": "stream",
     "text": [
      "8.008024691358024\n",
      "7.680246913580246\n"
     ]
    }
   ],
   "source": [
    "print(filtered_gross.IMDB_Rating.mean())\n",
    "print(filtered_gross.Meta_score.mean())"
   ]
  },
  {
   "cell_type": "markdown",
   "metadata": {},
   "source": [
    "Apesar de um maior faturamento os dados se concentram dentro daquelas lacunas citadas mais acima no nosso projeto, tanto para as notas do IMDB quanto para as notas dos criticos, mostrando que não existe uma relação definida com o lucro dos filmes e suas notas.\n",
    "\n",
    "Ainda outro fator interessante que podemos analisar para demostrar para a empresa é aplicar um filtro acima dos 113 milhões e os filmes mais recentes, buscando quais os generos desses filmes que mais aparecem quando estamos falando de alto lucro do nosso conjunto de dados nos últimos anos (também podemos observar os generos no geral com poucas alterações do código abaixo, trocando o filtro pelo conjunto de dados total)."
   ]
  },
  {
   "cell_type": "code",
   "execution_count": 1485,
   "metadata": {},
   "outputs": [
    {
     "name": "stdout",
     "output_type": "stream",
     "text": [
      "Adventure    20\n",
      "Action       17\n",
      "Drama        16\n",
      "Comedy       11\n",
      "Animation     7\n",
      "Sci-Fi        7\n",
      "Thriller      4\n",
      "Biography     4\n",
      "Music         3\n",
      "History       3\n",
      "Crime         2\n",
      "Family        2\n",
      "War           1\n",
      "Horror        1\n",
      "Mystery       1\n",
      "Romance       1\n",
      "Name: Genre, dtype: int64\n"
     ]
    }
   ],
   "source": [
    "filtered_gross_year = dados.loc[(dados['Gross'] > 113000000.00) & (dados['Released_Year'] > 2014)]\n",
    "dados_genre = filtered_gross_year['Genre'].str.split(',')\n",
    "dados_genre = dados_genre.apply(lambda genres: [genre.replace(' ', '') for genre in genres])\n",
    "genre_count = dados_genre.explode().value_counts()\n",
    "print(genre_count)"
   ]
  },
  {
   "cell_type": "markdown",
   "metadata": {},
   "source": [
    "Aqui temos que o maiores gêneros nos filmes mais lucrativos são Aventura (20 filmes), ação (17 filmes), drama (16 filmes) e comédia (11 filmes), então esses são os gêneros que foram mais lucrativos e mais apareceram desde 2014 até 2020. Importante lembrar também que esses filmes apresentam mais de um gênero por filme na maioria das vezes, por isso os varios valores dentro do conjunto de dados, então devemos ter em mente que esse são os principais tipos de filmes com maiores lucros nos ultimos anos dentro do nosso conjunto de dados.\n",
    "\n",
    "### Insights da coluna Overview\n",
    "Quais insights nessa coluna eu consigo observar? É possísvel inferir o genêro do filme a partir dessa coluna?\n",
    "\n",
    "Bom, a coluna overview é uma coluna object que traz a descrição dos filmes."
   ]
  },
  {
   "cell_type": "code",
   "execution_count": 1486,
   "metadata": {},
   "outputs": [
    {
     "data": {
      "text/html": [
       "<div>\n",
       "<style scoped>\n",
       "    .dataframe tbody tr th:only-of-type {\n",
       "        vertical-align: middle;\n",
       "    }\n",
       "\n",
       "    .dataframe tbody tr th {\n",
       "        vertical-align: top;\n",
       "    }\n",
       "\n",
       "    .dataframe thead th {\n",
       "        text-align: right;\n",
       "    }\n",
       "</style>\n",
       "<table border=\"1\" class=\"dataframe\">\n",
       "  <thead>\n",
       "    <tr style=\"text-align: right;\">\n",
       "      <th></th>\n",
       "      <th>Series_Title</th>\n",
       "      <th>Genre</th>\n",
       "      <th>Overview</th>\n",
       "    </tr>\n",
       "  </thead>\n",
       "  <tbody>\n",
       "    <tr>\n",
       "      <th>0</th>\n",
       "      <td>The Godfather</td>\n",
       "      <td>Crime, Drama</td>\n",
       "      <td>An organized crime dynasty's aging patriarch t...</td>\n",
       "    </tr>\n",
       "    <tr>\n",
       "      <th>1</th>\n",
       "      <td>The Dark Knight</td>\n",
       "      <td>Action, Crime, Drama</td>\n",
       "      <td>When the menace known as the Joker wreaks havo...</td>\n",
       "    </tr>\n",
       "    <tr>\n",
       "      <th>2</th>\n",
       "      <td>The Godfather: Part II</td>\n",
       "      <td>Crime, Drama</td>\n",
       "      <td>The early life and career of Vito Corleone in ...</td>\n",
       "    </tr>\n",
       "    <tr>\n",
       "      <th>3</th>\n",
       "      <td>12 Angry Men</td>\n",
       "      <td>Crime, Drama</td>\n",
       "      <td>A jury holdout attempts to prevent a miscarria...</td>\n",
       "    </tr>\n",
       "    <tr>\n",
       "      <th>4</th>\n",
       "      <td>The Lord of the Rings: The Return of the King</td>\n",
       "      <td>Action, Adventure, Drama</td>\n",
       "      <td>Gandalf and Aragorn lead the World of Men agai...</td>\n",
       "    </tr>\n",
       "  </tbody>\n",
       "</table>\n",
       "</div>"
      ],
      "text/plain": [
       "                                    Series_Title                     Genre  \\\n",
       "0                                  The Godfather              Crime, Drama   \n",
       "1                                The Dark Knight      Action, Crime, Drama   \n",
       "2                         The Godfather: Part II              Crime, Drama   \n",
       "3                                   12 Angry Men              Crime, Drama   \n",
       "4  The Lord of the Rings: The Return of the King  Action, Adventure, Drama   \n",
       "\n",
       "                                            Overview  \n",
       "0  An organized crime dynasty's aging patriarch t...  \n",
       "1  When the menace known as the Joker wreaks havo...  \n",
       "2  The early life and career of Vito Corleone in ...  \n",
       "3  A jury holdout attempts to prevent a miscarria...  \n",
       "4  Gandalf and Aragorn lead the World of Men agai...  "
      ]
     },
     "execution_count": 1486,
     "metadata": {},
     "output_type": "execute_result"
    }
   ],
   "source": [
    "overview = dados[['Series_Title','Genre','Overview']]\n",
    "overview.head()"
   ]
  },
  {
   "cell_type": "markdown",
   "metadata": {},
   "source": [
    "Aqui temos uma dataframe chamado overview que possibilita analisarmos o texto descritivo com os generos que aparecem para cada filme e o seu nome. O primeiro raciocionio para analisarmos se existe correlação no genêro com a descrição do filme podemos simplesmente comparar as palavras que estão gênero e a que estão dentro da descrição."
   ]
  },
  {
   "cell_type": "code",
   "execution_count": 1487,
   "metadata": {},
   "outputs": [
    {
     "name": "stdout",
     "output_type": "stream",
     "text": [
      "4.91% das palavras dentro de gênero estão na coluna overview\n"
     ]
    }
   ],
   "source": [
    "def processar_genero(genero):\n",
    "    return {palavra.strip().lower() for palavra in genero.split(', ')}\n",
    "    #coloca a palavra vazia e sem o espaço\n",
    "\n",
    "def verifica_palavras_na_overview(row):\n",
    "    palavras_gênero = set(processar_genero(row['Genre']))\n",
    "    palavras_overview = set(row['Overview'].split())\n",
    "    #remove o espaço vazio com o strip e separa as palavras\n",
    "    return len(palavras_gênero & palavras_overview) > 0\n",
    "    #conta as ocorrencias para o calculo de acerto das palavras entre as duas colunas\n",
    "\n",
    "df_copy = overview.copy()\n",
    "#fazendo uma copia para prevenção de erros\n",
    "\n",
    "df_copy['Corresponde'] = df_copy.apply(verifica_palavras_na_overview, axis=1)\n",
    "# Aplicando a função em 'Genre'\n",
    "\n",
    "total_linhas = len(df_copy)\n",
    "linhas_correspondentes = df_copy[df_copy['Corresponde']].shape[0]\n",
    "porcentagem = (linhas_correspondentes / total_linhas) * 100\n",
    "# Calculando a porcentagem na cópia do DataFrame\n",
    "\n",
    "print(f\"{porcentagem:.2f}% das palavras dentro de gênero estão na coluna overview\")\n"
   ]
  },
  {
   "cell_type": "markdown",
   "metadata": {},
   "source": [
    "Analisando diretamente as palavras de genero com as palavras dentro do overview percebemos uma baixa incidencia da palavra diretamente na coluna seguinte, atingindo apenas 5% dos casos. Aqui precisariamos de algum trabalho mais robusto para uma análise mais profunda da comparação entre essas duas colunas, provavelmente a aplicação de uma NLP seria um bom caminho a ser seguido (nas considerações finais desse relatório eu descrevo mais sobre isso)."
   ]
  },
  {
   "cell_type": "markdown",
   "metadata": {},
   "source": [
    "## Previsão das notas do IMDB\n",
    "Agora farei o terceiro passo do projeto que é o desenvolvimento de um algoritmo de machine Learning para as notas do IMDB, mas antes de irmos direto ao código vou responder as questões teóricas primeiro.\n",
    "\n",
    "* <b>Quais variáveis e/ou suas transformações você utilizou e por quê?: </b> as principais variaveis que irei utilizar são as notas do IMDB, pois será meu target, o ano de lançamento, o tempo de duração, a nota dos criticos, o numero total de votos e o lucro final. Todos são valores númericos dentro do meu conjunto de dados, sendo que a nota dos criticos eu efetuei uma divisão por 10 para deixar na mesma escala das notas do IMDB.\n",
    "* <b>Qual tipo de problema estamos resolvendo (regressão, classificação)?: </b> No caso desse problema estamos desenvolvendo uma solução de regressão, pois estamos utilizando os nossos dados estruturados para encontrar um valor numérico especifico utilizando valores númericos da coluna de notas do IMDB. Modelos de classificação seriam focados em colocar labels nos filmes e agrupa-los por caracteristicas especificas dentro do conjunto de dados, aplicando algum modelo que calcularia a distancia de cada ponto que um filme representa e agrupando os mais próximos em um mesmo label, que não é o caso, pois buscamos um valor númerico especifico.\n",
    "* <b>Qual modelo melhor se aproxima dos dados e quais seus prós e contras?: </b> Estou testando três modelos de regressao linear, um do scikt learn, outro do statsmodel e outro modelo da decisionTreeClassifier. Os modelos de SckitLearn e StatsModel possuem robustes e são amplamente empregados em rergressão linear, senedo possivel aplicar ainda análise de valores estatisticos no processo, entretanto eles pressupoem que a variação de valores é linear, são sensiveis a outliers. DecisionTree cria arvores de decisões para o modelo, sendo flexivel e robusto (suporta bem outiliers), mas pode ter oveerfiting e responder mal a variação de dados bruscas.\n",
    "* <b>Qual medida de performance do modelo foi escolhida e por quê?: </b> A medida de performance do nosso conjunto de dados será RMSE (root mean square error - raiz quadrada dos valores médios dos erros), pois esse modelo apresenta resultados interessantes para esse medidor dentro do nosso contexto, principalmente por não termos grandes presenças de outliers dentro das notas do IMDB (apresentam apenas três valores que serão removidos para maior precisão do modelo)."
   ]
  },
  {
   "cell_type": "markdown",
   "metadata": {},
   "source": [
    "### Desenvolvendo o modelo de machine learning\n",
    "Analisando o conjunto de dados percebemos que ele possue poucos outliers dentro do nossos parametros, que podem ser removidos, entretanto ele possue uma distribuição de dados não muito adequada."
   ]
  },
  {
   "cell_type": "code",
   "execution_count": 1488,
   "metadata": {},
   "outputs": [
    {
     "data": {
      "image/png": "[encoded data removed]",
      "text/plain": [
       "<Figure size 640x480 with 1 Axes>"
      ]
     },
     "metadata": {},
     "output_type": "display_data"
    }
   ],
   "source": [
    "import seaborn as sns\n",
    "\n",
    "dados = dados.loc[dados['IMDB_Rating'] <= 8.7]\n",
    "#remoçao dos outliers\n",
    "\n",
    "sns.kdeplot(data=dados['IMDB_Rating'], fill=True);\n"
   ]
  },
  {
   "cell_type": "markdown",
   "metadata": {},
   "source": [
    "Alta concentração de dados na esquerda da distribuição."
   ]
  },
  {
   "cell_type": "code",
   "execution_count": 1489,
   "metadata": {},
   "outputs": [
    {
     "data": {
      "text/plain": [
       "<Axes: >"
      ]
     },
     "execution_count": 1489,
     "metadata": {},
     "output_type": "execute_result"
    },
    {
     "data": {
      "image/png": "[encoded data removed]",
      "text/plain": [
       "<Figure size 640x480 with 1 Axes>"
      ]
     },
     "metadata": {},
     "output_type": "display_data"
    }
   ],
   "source": [
    "dados[['IMDB_Rating']].boxplot()"
   ]
  },
  {
   "cell_type": "markdown",
   "metadata": {},
   "source": [
    "Bom, como visto anteriormente nossos dados possuem outliers, entretanto apenas 3 valores, mas ele possue uma tendencia a concentrar os dados, que será trabalhado logo menos antes de treinarmos nosso modelo. Antes disso, podemos fazer uma tentativa de estipular uma nova variavel no nosso conjunto de dados, na verdade eu estou pensando em duas variaveis novas, onde elas se baseam nas medias das notas entre os criticos e as notas do IMDB. A possibilidade é que essas notas combinadas podem gerar bons atributos que podem auxiliar no desenvolvimento de um modelo mais preciso."
   ]
  },
  {
   "cell_type": "code",
   "execution_count": 1490,
   "metadata": {},
   "outputs": [
    {
     "data": {
      "text/plain": [
       "IMDB_Rating      1.000000\n",
       "No_of_Votes      0.381739\n",
       "Meta_score       0.236724\n",
       "Runtime_min      0.203212\n",
       "Gross            0.047004\n",
       "Released_Year   -0.139578\n",
       "Name: IMDB_Rating, dtype: float64"
      ]
     },
     "execution_count": 1490,
     "metadata": {},
     "output_type": "execute_result"
    }
   ],
   "source": [
    "dados.corr()['IMDB_Rating'].sort_values(ascending=False)"
   ]
  },
  {
   "cell_type": "markdown",
   "metadata": {},
   "source": [
    "Agorar, vou treinar meu modelo de machine learning com o conjunto de dados, entretanto irei averiguar algumas possibilidades dentro de diferentes modelos.\n",
    "\n",
    "### Treinando os modelos e utilizando o RMSE\n",
    "<b>Importante:</b> eu havia citado isso acima no relatório, mas para deixar claro eu irei trabalhar com o RMSE como base de comparação entre os modelos, isso se deve ao fato de termos poucos outliers dentro do nosso conjunto de dados no alvo target, que no caso é a notas do IMDB.\n",
    "\n",
    "Outro ponto relevante é que as notas do IMDB_rating variam do minimo de 7.6 e do máximo 9.2, ou seja, a taxa máxima de variação é de apenas 1.6 pontos, esse valor vai permitir o calculo de porcentagem do erro dos nossos dados baseado no RMSE, que serão calculado a cada novo modelo. Também colocarei a SEED aqui no topo para ela ser aplicada em todos os modelos.\n"
   ]
  },
  {
   "cell_type": "markdown",
   "metadata": {},
   "source": [
    "\n",
    "#### Modelo do sckit_learn"
   ]
  },
  {
   "cell_type": "code",
   "execution_count": 1491,
   "metadata": {},
   "outputs": [],
   "source": [
    "from sklearn.model_selection import train_test_split\n",
    "from sklearn.linear_model import LinearRegression\n",
    "from sklearn.metrics import mean_squared_error\n",
    "import numpy as np"
   ]
  },
  {
   "cell_type": "code",
   "execution_count": 1492,
   "metadata": {},
   "outputs": [],
   "source": [
    "SEED = 42\n",
    "\n",
    "y = dados['IMDB_Rating']\n",
    "X = dados.drop(columns = ['Series_Title', 'Certificate','Genre','IMDB_Rating','Overview','Director','Star1','Star2','Star3','Star4'])\n",
    "\n",
    "X_train, X_test, y_train, y_test = train_test_split(X, y, test_size=0.2, random_state=SEED)"
   ]
  },
  {
   "cell_type": "code",
   "execution_count": 1493,
   "metadata": {},
   "outputs": [
    {
     "data": {
      "text/html": [
       "<style>#sk-container-id-58 {\n",
       "  /* Definition of color scheme common for light and dark mode */\n",
       "  --sklearn-color-text: black;\n",
       "  --sklearn-color-line: gray;\n",
       "  /* Definition of color scheme for unfitted estimators */\n",
       "  --sklearn-color-unfitted-level-0: #fff5e6;\n",
       "  --sklearn-color-unfitted-level-1: #f6e4d2;\n",
       "  --sklearn-color-unfitted-level-2: #ffe0b3;\n",
       "  --sklearn-color-unfitted-level-3: chocolate;\n",
       "  /* Definition of color scheme for fitted estimators */\n",
       "  --sklearn-color-fitted-level-0: #f0f8ff;\n",
       "  --sklearn-color-fitted-level-1: #d4ebff;\n",
       "  --sklearn-color-fitted-level-2: #b3dbfd;\n",
       "  --sklearn-color-fitted-level-3: cornflowerblue;\n",
       "\n",
       "  /* Specific color for light theme */\n",
       "  --sklearn-color-text-on-default-background: var(--sg-text-color, var(--theme-code-foreground, var(--jp-content-font-color1, black)));\n",
       "  --sklearn-color-background: var(--sg-background-color, var(--theme-background, var(--jp-layout-color0, white)));\n",
       "  --sklearn-color-border-box: var(--sg-text-color, var(--theme-code-foreground, var(--jp-content-font-color1, black)));\n",
       "  --sklearn-color-icon: #696969;\n",
       "\n",
       "  @media (prefers-color-scheme: dark) {\n",
       "    /* Redefinition of color scheme for dark theme */\n",
       "    --sklearn-color-text-on-default-background: var(--sg-text-color, var(--theme-code-foreground, var(--jp-content-font-color1, white)));\n",
       "    --sklearn-color-background: var(--sg-background-color, var(--theme-background, var(--jp-layout-color0, #111)));\n",
       "    --sklearn-color-border-box: var(--sg-text-color, var(--theme-code-foreground, var(--jp-content-font-color1, white)));\n",
       "    --sklearn-color-icon: #878787;\n",
       "  }\n",
       "}\n",
       "\n",
       "#sk-container-id-58 {\n",
       "  color: var(--sklearn-color-text);\n",
       "}\n",
       "\n",
       "#sk-container-id-58 pre {\n",
       "  padding: 0;\n",
       "}\n",
       "\n",
       "#sk-container-id-58 input.sk-hidden--visually {\n",
       "  border: 0;\n",
       "  clip: rect(1px 1px 1px 1px);\n",
       "  clip: rect(1px, 1px, 1px, 1px);\n",
       "  height: 1px;\n",
       "  margin: -1px;\n",
       "  overflow: hidden;\n",
       "  padding: 0;\n",
       "  position: absolute;\n",
       "  width: 1px;\n",
       "}\n",
       "\n",
       "#sk-container-id-58 div.sk-dashed-wrapped {\n",
       "  border: 1px dashed var(--sklearn-color-line);\n",
       "  margin: 0 0.4em 0.5em 0.4em;\n",
       "  box-sizing: border-box;\n",
       "  padding-bottom: 0.4em;\n",
       "  background-color: var(--sklearn-color-background);\n",
       "}\n",
       "\n",
       "#sk-container-id-58 div.sk-container {\n",
       "  /* jupyter's `normalize.less` sets `[hidden] { display: none; }`\n",
       "     but bootstrap.min.css set `[hidden] { display: none !important; }`\n",
       "     so we also need the `!important` here to be able to override the\n",
       "     default hidden behavior on the sphinx rendered scikit-learn.org.\n",
       "     See: https://github.com/scikit-learn/scikit-learn/issues/21755 */\n",
       "  display: inline-block !important;\n",
       "  position: relative;\n",
       "}\n",
       "\n",
       "#sk-container-id-58 div.sk-text-repr-fallback {\n",
       "  display: none;\n",
       "}\n",
       "\n",
       "div.sk-parallel-item,\n",
       "div.sk-serial,\n",
       "div.sk-item {\n",
       "  /* draw centered vertical line to link estimators */\n",
       "  background-image: linear-gradient(var(--sklearn-color-text-on-default-background), var(--sklearn-color-text-on-default-background));\n",
       "  background-size: 2px 100%;\n",
       "  background-repeat: no-repeat;\n",
       "  background-position: center center;\n",
       "}\n",
       "\n",
       "/* Parallel-specific style estimator block */\n",
       "\n",
       "#sk-container-id-58 div.sk-parallel-item::after {\n",
       "  content: \"\";\n",
       "  width: 100%;\n",
       "  border-bottom: 2px solid var(--sklearn-color-text-on-default-background);\n",
       "  flex-grow: 1;\n",
       "}\n",
       "\n",
       "#sk-container-id-58 div.sk-parallel {\n",
       "  display: flex;\n",
       "  align-items: stretch;\n",
       "  justify-content: center;\n",
       "  background-color: var(--sklearn-color-background);\n",
       "  position: relative;\n",
       "}\n",
       "\n",
       "#sk-container-id-58 div.sk-parallel-item {\n",
       "  display: flex;\n",
       "  flex-direction: column;\n",
       "}\n",
       "\n",
       "#sk-container-id-58 div.sk-parallel-item:first-child::after {\n",
       "  align-self: flex-end;\n",
       "  width: 50%;\n",
       "}\n",
       "\n",
       "#sk-container-id-58 div.sk-parallel-item:last-child::after {\n",
       "  align-self: flex-start;\n",
       "  width: 50%;\n",
       "}\n",
       "\n",
       "#sk-container-id-58 div.sk-parallel-item:only-child::after {\n",
       "  width: 0;\n",
       "}\n",
       "\n",
       "/* Serial-specific style estimator block */\n",
       "\n",
       "#sk-container-id-58 div.sk-serial {\n",
       "  display: flex;\n",
       "  flex-direction: column;\n",
       "  align-items: center;\n",
       "  background-color: var(--sklearn-color-background);\n",
       "  padding-right: 1em;\n",
       "  padding-left: 1em;\n",
       "}\n",
       "\n",
       "\n",
       "/* Toggleable style: style used for estimator/Pipeline/ColumnTransformer box that is\n",
       "clickable and can be expanded/collapsed.\n",
       "- Pipeline and ColumnTransformer use this feature and define the default style\n",
       "- Estimators will overwrite some part of the style using the `sk-estimator` class\n",
       "*/\n",
       "\n",
       "/* Pipeline and ColumnTransformer style (default) */\n",
       "\n",
       "#sk-container-id-58 div.sk-toggleable {\n",
       "  /* Default theme specific background. It is overwritten whether we have a\n",
       "  specific estimator or a Pipeline/ColumnTransformer */\n",
       "  background-color: var(--sklearn-color-background);\n",
       "}\n",
       "\n",
       "/* Toggleable label */\n",
       "#sk-container-id-58 label.sk-toggleable__label {\n",
       "  cursor: pointer;\n",
       "  display: block;\n",
       "  width: 100%;\n",
       "  margin-bottom: 0;\n",
       "  padding: 0.5em;\n",
       "  box-sizing: border-box;\n",
       "  text-align: center;\n",
       "}\n",
       "\n",
       "#sk-container-id-58 label.sk-toggleable__label-arrow:before {\n",
       "  /* Arrow on the left of the label */\n",
       "  content: \"▸\";\n",
       "  float: left;\n",
       "  margin-right: 0.25em;\n",
       "  color: var(--sklearn-color-icon);\n",
       "}\n",
       "\n",
       "#sk-container-id-58 label.sk-toggleable__label-arrow:hover:before {\n",
       "  color: var(--sklearn-color-text);\n",
       "}\n",
       "\n",
       "/* Toggleable content - dropdown */\n",
       "\n",
       "#sk-container-id-58 div.sk-toggleable__content {\n",
       "  max-height: 0;\n",
       "  max-width: 0;\n",
       "  overflow: hidden;\n",
       "  text-align: left;\n",
       "  /* unfitted */\n",
       "  background-color: var(--sklearn-color-unfitted-level-0);\n",
       "}\n",
       "\n",
       "#sk-container-id-58 div.sk-toggleable__content.fitted {\n",
       "  /* fitted */\n",
       "  background-color: var(--sklearn-color-fitted-level-0);\n",
       "}\n",
       "\n",
       "#sk-container-id-58 div.sk-toggleable__content pre {\n",
       "  margin: 0.2em;\n",
       "  border-radius: 0.25em;\n",
       "  color: var(--sklearn-color-text);\n",
       "  /* unfitted */\n",
       "  background-color: var(--sklearn-color-unfitted-level-0);\n",
       "}\n",
       "\n",
       "#sk-container-id-58 div.sk-toggleable__content.fitted pre {\n",
       "  /* unfitted */\n",
       "  background-color: var(--sklearn-color-fitted-level-0);\n",
       "}\n",
       "\n",
       "#sk-container-id-58 input.sk-toggleable__control:checked~div.sk-toggleable__content {\n",
       "  /* Expand drop-down */\n",
       "  max-height: 200px;\n",
       "  max-width: 100%;\n",
       "  overflow: auto;\n",
       "}\n",
       "\n",
       "#sk-container-id-58 input.sk-toggleable__control:checked~label.sk-toggleable__label-arrow:before {\n",
       "  content: \"▾\";\n",
       "}\n",
       "\n",
       "/* Pipeline/ColumnTransformer-specific style */\n",
       "\n",
       "#sk-container-id-58 div.sk-label input.sk-toggleable__control:checked~label.sk-toggleable__label {\n",
       "  color: var(--sklearn-color-text);\n",
       "  background-color: var(--sklearn-color-unfitted-level-2);\n",
       "}\n",
       "\n",
       "#sk-container-id-58 div.sk-label.fitted input.sk-toggleable__control:checked~label.sk-toggleable__label {\n",
       "  background-color: var(--sklearn-color-fitted-level-2);\n",
       "}\n",
       "\n",
       "/* Estimator-specific style */\n",
       "\n",
       "/* Colorize estimator box */\n",
       "#sk-container-id-58 div.sk-estimator input.sk-toggleable__control:checked~label.sk-toggleable__label {\n",
       "  /* unfitted */\n",
       "  background-color: var(--sklearn-color-unfitted-level-2);\n",
       "}\n",
       "\n",
       "#sk-container-id-58 div.sk-estimator.fitted input.sk-toggleable__control:checked~label.sk-toggleable__label {\n",
       "  /* fitted */\n",
       "  background-color: var(--sklearn-color-fitted-level-2);\n",
       "}\n",
       "\n",
       "#sk-container-id-58 div.sk-label label.sk-toggleable__label,\n",
       "#sk-container-id-58 div.sk-label label {\n",
       "  /* The background is the default theme color */\n",
       "  color: var(--sklearn-color-text-on-default-background);\n",
       "}\n",
       "\n",
       "/* On hover, darken the color of the background */\n",
       "#sk-container-id-58 div.sk-label:hover label.sk-toggleable__label {\n",
       "  color: var(--sklearn-color-text);\n",
       "  background-color: var(--sklearn-color-unfitted-level-2);\n",
       "}\n",
       "\n",
       "/* Label box, darken color on hover, fitted */\n",
       "#sk-container-id-58 div.sk-label.fitted:hover label.sk-toggleable__label.fitted {\n",
       "  color: var(--sklearn-color-text);\n",
       "  background-color: var(--sklearn-color-fitted-level-2);\n",
       "}\n",
       "\n",
       "/* Estimator label */\n",
       "\n",
       "#sk-container-id-58 div.sk-label label {\n",
       "  font-family: monospace;\n",
       "  font-weight: bold;\n",
       "  display: inline-block;\n",
       "  line-height: 1.2em;\n",
       "}\n",
       "\n",
       "#sk-container-id-58 div.sk-label-container {\n",
       "  text-align: center;\n",
       "}\n",
       "\n",
       "/* Estimator-specific */\n",
       "#sk-container-id-58 div.sk-estimator {\n",
       "  font-family: monospace;\n",
       "  border: 1px dotted var(--sklearn-color-border-box);\n",
       "  border-radius: 0.25em;\n",
       "  box-sizing: border-box;\n",
       "  margin-bottom: 0.5em;\n",
       "  /* unfitted */\n",
       "  background-color: var(--sklearn-color-unfitted-level-0);\n",
       "}\n",
       "\n",
       "#sk-container-id-58 div.sk-estimator.fitted {\n",
       "  /* fitted */\n",
       "  background-color: var(--sklearn-color-fitted-level-0);\n",
       "}\n",
       "\n",
       "/* on hover */\n",
       "#sk-container-id-58 div.sk-estimator:hover {\n",
       "  /* unfitted */\n",
       "  background-color: var(--sklearn-color-unfitted-level-2);\n",
       "}\n",
       "\n",
       "#sk-container-id-58 div.sk-estimator.fitted:hover {\n",
       "  /* fitted */\n",
       "  background-color: var(--sklearn-color-fitted-level-2);\n",
       "}\n",
       "\n",
       "/* Specification for estimator info (e.g. \"i\" and \"?\") */\n",
       "\n",
       "/* Common style for \"i\" and \"?\" */\n",
       "\n",
       ".sk-estimator-doc-link,\n",
       "a:link.sk-estimator-doc-link,\n",
       "a:visited.sk-estimator-doc-link {\n",
       "  float: right;\n",
       "  font-size: smaller;\n",
       "  line-height: 1em;\n",
       "  font-family: monospace;\n",
       "  background-color: var(--sklearn-color-background);\n",
       "  border-radius: 1em;\n",
       "  height: 1em;\n",
       "  width: 1em;\n",
       "  text-decoration: none !important;\n",
       "  margin-left: 1ex;\n",
       "  /* unfitted */\n",
       "  border: var(--sklearn-color-unfitted-level-1) 1pt solid;\n",
       "  color: var(--sklearn-color-unfitted-level-1);\n",
       "}\n",
       "\n",
       ".sk-estimator-doc-link.fitted,\n",
       "a:link.sk-estimator-doc-link.fitted,\n",
       "a:visited.sk-estimator-doc-link.fitted {\n",
       "  /* fitted */\n",
       "  border: var(--sklearn-color-fitted-level-1) 1pt solid;\n",
       "  color: var(--sklearn-color-fitted-level-1);\n",
       "}\n",
       "\n",
       "/* On hover */\n",
       "div.sk-estimator:hover .sk-estimator-doc-link:hover,\n",
       ".sk-estimator-doc-link:hover,\n",
       "div.sk-label-container:hover .sk-estimator-doc-link:hover,\n",
       ".sk-estimator-doc-link:hover {\n",
       "  /* unfitted */\n",
       "  background-color: var(--sklearn-color-unfitted-level-3);\n",
       "  color: var(--sklearn-color-background);\n",
       "  text-decoration: none;\n",
       "}\n",
       "\n",
       "div.sk-estimator.fitted:hover .sk-estimator-doc-link.fitted:hover,\n",
       ".sk-estimator-doc-link.fitted:hover,\n",
       "div.sk-label-container:hover .sk-estimator-doc-link.fitted:hover,\n",
       ".sk-estimator-doc-link.fitted:hover {\n",
       "  /* fitted */\n",
       "  background-color: var(--sklearn-color-fitted-level-3);\n",
       "  color: var(--sklearn-color-background);\n",
       "  text-decoration: none;\n",
       "}\n",
       "\n",
       "/* Span, style for the box shown on hovering the info icon */\n",
       ".sk-estimator-doc-link span {\n",
       "  display: none;\n",
       "  z-index: 9999;\n",
       "  position: relative;\n",
       "  font-weight: normal;\n",
       "  right: .2ex;\n",
       "  padding: .5ex;\n",
       "  margin: .5ex;\n",
       "  width: min-content;\n",
       "  min-width: 20ex;\n",
       "  max-width: 50ex;\n",
       "  color: var(--sklearn-color-text);\n",
       "  box-shadow: 2pt 2pt 4pt #999;\n",
       "  /* unfitted */\n",
       "  background: var(--sklearn-color-unfitted-level-0);\n",
       "  border: .5pt solid var(--sklearn-color-unfitted-level-3);\n",
       "}\n",
       "\n",
       ".sk-estimator-doc-link.fitted span {\n",
       "  /* fitted */\n",
       "  background: var(--sklearn-color-fitted-level-0);\n",
       "  border: var(--sklearn-color-fitted-level-3);\n",
       "}\n",
       "\n",
       ".sk-estimator-doc-link:hover span {\n",
       "  display: block;\n",
       "}\n",
       "\n",
       "/* \"?\"-specific style due to the `<a>` HTML tag */\n",
       "\n",
       "#sk-container-id-58 a.estimator_doc_link {\n",
       "  float: right;\n",
       "  font-size: 1rem;\n",
       "  line-height: 1em;\n",
       "  font-family: monospace;\n",
       "  background-color: var(--sklearn-color-background);\n",
       "  border-radius: 1rem;\n",
       "  height: 1rem;\n",
       "  width: 1rem;\n",
       "  text-decoration: none;\n",
       "  /* unfitted */\n",
       "  color: var(--sklearn-color-unfitted-level-1);\n",
       "  border: var(--sklearn-color-unfitted-level-1) 1pt solid;\n",
       "}\n",
       "\n",
       "#sk-container-id-58 a.estimator_doc_link.fitted {\n",
       "  /* fitted */\n",
       "  border: var(--sklearn-color-fitted-level-1) 1pt solid;\n",
       "  color: var(--sklearn-color-fitted-level-1);\n",
       "}\n",
       "\n",
       "/* On hover */\n",
       "#sk-container-id-58 a.estimator_doc_link:hover {\n",
       "  /* unfitted */\n",
       "  background-color: var(--sklearn-color-unfitted-level-3);\n",
       "  color: var(--sklearn-color-background);\n",
       "  text-decoration: none;\n",
       "}\n",
       "\n",
       "#sk-container-id-58 a.estimator_doc_link.fitted:hover {\n",
       "  /* fitted */\n",
       "  background-color: var(--sklearn-color-fitted-level-3);\n",
       "}\n",
       "</style><div id=\"sk-container-id-58\" class=\"sk-top-container\"><div class=\"sk-text-repr-fallback\"><pre>LinearRegression()</pre><b>In a Jupyter environment, please rerun this cell to show the HTML representation or trust the notebook. <br />On GitHub, the HTML representation is unable to render, please try loading this page with nbviewer.org.</b></div><div class=\"sk-container\" hidden><div class=\"sk-item\"><div class=\"sk-estimator fitted sk-toggleable\"><input class=\"sk-toggleable__control sk-hidden--visually\" id=\"sk-estimator-id-58\" type=\"checkbox\" checked><label for=\"sk-estimator-id-58\" class=\"sk-toggleable__label fitted sk-toggleable__label-arrow fitted\">&nbsp;&nbsp;LinearRegression<a class=\"sk-estimator-doc-link fitted\" rel=\"noreferrer\" target=\"_blank\" href=\"https://scikit-learn.org/1.4/modules/generated/sklearn.linear_model.LinearRegression.html\">?<span>Documentation for LinearRegression</span></a><span class=\"sk-estimator-doc-link fitted\">i<span>Fitted</span></span></label><div class=\"sk-toggleable__content fitted\"><pre>LinearRegression()</pre></div> </div></div></div></div>"
      ],
      "text/plain": [
       "LinearRegression()"
      ]
     },
     "execution_count": 1493,
     "metadata": {},
     "output_type": "execute_result"
    }
   ],
   "source": [
    "modelo_sckit = LinearRegression()\n",
    "modelo_sckit.fit(X_train, y_train)"
   ]
  },
  {
   "cell_type": "code",
   "execution_count": 1494,
   "metadata": {},
   "outputs": [],
   "source": [
    "modelo_sckit_pre = modelo_sckit.predict(X_test)"
   ]
  },
  {
   "cell_type": "code",
   "execution_count": 1495,
   "metadata": {},
   "outputs": [
    {
     "name": "stdout",
     "output_type": "stream",
     "text": [
      "RMSE: 0.19720819651525187\n",
      "Desempenho do modelo sckit_learn: 12.33% - erro médio da amplitude total do conjunto das notas\n"
     ]
    }
   ],
   "source": [
    "variacao = 1.6\n",
    "\n",
    "rmse_sckit = np.sqrt(mean_squared_error(y_test, modelo_sckit_pre))\n",
    "print(f'RMSE: {rmse_sckit}')\n",
    "print(f'Desempenho do modelo sckit_learn: {round((rmse_sckit/variacao)*100,2)}% - erro médio da amplitude total do conjunto das notas')"
   ]
  },
  {
   "cell_type": "markdown",
   "metadata": {},
   "source": [
    "#### Modelo usando StatsModel"
   ]
  },
  {
   "cell_type": "markdown",
   "metadata": {},
   "source": [
    "Aqui vou refazer alguns dos passos para organização e melhor controle do codigo, apesar de não ser recomendado a repetição de código."
   ]
  },
  {
   "cell_type": "code",
   "execution_count": 1496,
   "metadata": {},
   "outputs": [],
   "source": [
    "import statsmodels.api as sm\n",
    "\n",
    "#y = dados['IMDB_Rating']\n",
    "#X = dados.drop(columns = ['Series_Title','IMDB_Rating', 'Certificate','Genre','Overview','Director','Star1','Star2','Star3','Star4'])\n",
    "X = sm.add_constant(X)\n",
    "\n",
    "X_train, X_test, y_train, y_test = train_test_split(X, y, test_size=0.2, random_state=SEED)"
   ]
  },
  {
   "cell_type": "code",
   "execution_count": 1497,
   "metadata": {},
   "outputs": [],
   "source": [
    "modelo_s= sm.OLS(y_train, X_train)\n",
    "modelo_stats = modelo_s.fit()"
   ]
  },
  {
   "cell_type": "code",
   "execution_count": 1498,
   "metadata": {},
   "outputs": [
    {
     "name": "stdout",
     "output_type": "stream",
     "text": [
      "                            OLS Regression Results                            \n",
      "==============================================================================\n",
      "Dep. Variable:            IMDB_Rating   R-squared:                       0.336\n",
      "Model:                            OLS   Adj. R-squared:                  0.332\n",
      "Method:                 Least Squares   F-statistic:                     79.09\n",
      "Date:                Wed, 17 Jul 2024   Prob (F-statistic):           3.66e-67\n",
      "Time:                        20:27:41   Log-Likelihood:                 114.52\n",
      "No. Observations:                 788   AIC:                            -217.0\n",
      "Df Residuals:                     782   BIC:                            -189.0\n",
      "Df Model:                           5                                         \n",
      "Covariance Type:            nonrobust                                         \n",
      "=================================================================================\n",
      "                    coef    std err          t      P>|t|      [0.025      0.975]\n",
      "---------------------------------------------------------------------------------\n",
      "const            11.6030      0.720     16.107      0.000      10.189      13.017\n",
      "Released_Year    -0.0022      0.000     -6.180      0.000      -0.003      -0.001\n",
      "Runtime_min       0.0021      0.000      8.076      0.000       0.002       0.003\n",
      "Meta_score        0.0453      0.007      6.477      0.000       0.032       0.059\n",
      "No_of_Votes    5.007e-07   3.19e-08     15.681      0.000    4.38e-07    5.63e-07\n",
      "Gross         -6.228e-10   8.78e-11     -7.091      0.000   -7.95e-10    -4.5e-10\n",
      "==============================================================================\n",
      "Omnibus:                       29.659   Durbin-Watson:                   1.928\n",
      "Prob(Omnibus):                  0.000   Jarque-Bera (JB):               32.190\n",
      "Skew:                           0.493   Prob(JB):                     1.02e-07\n",
      "Kurtosis:                       3.085   Cond. No.                     1.19e+10\n",
      "==============================================================================\n",
      "\n",
      "Notes:\n",
      "[1] Standard Errors assume that the covariance matrix of the errors is correctly specified.\n",
      "[2] The condition number is large, 1.19e+10. This might indicate that there are\n",
      "strong multicollinearity or other numerical problems.\n"
     ]
    }
   ],
   "source": [
    "print(modelo_stats.summary())"
   ]
  },
  {
   "cell_type": "markdown",
   "metadata": {},
   "source": [
    "Aqui vou aproveitar e fazer a análise das variaveis e dos valores do 'sm', onde encontramos todos os valores das variaveis como zero, o que nos permite afirmar que todas as variaveis são relevantes dentro do nosso conjunto de dados e do treinamento do modelo (importante observar os valores individuais de cada variavel).\n",
    "\n",
    "Agora vamos ao RMSE do statsmodel.\n",
    "\n"
   ]
  },
  {
   "cell_type": "code",
   "execution_count": 1499,
   "metadata": {},
   "outputs": [
    {
     "name": "stdout",
     "output_type": "stream",
     "text": [
      "RMSE: 0.19720819651273117\n",
      "Desempenho do modelo sckit_learn: 12.33% - erro médio da amplitude total do conjunto das notas\n"
     ]
    }
   ],
   "source": [
    "y_pred = modelo_stats.predict(X_test)\n",
    "rmse_statsmodels = np.sqrt(mean_squared_error(y_test, y_pred))\n",
    "\n",
    "print(f'RMSE: {rmse_statsmodels}')\n",
    "print(f'Desempenho do modelo sckit_learn: {round((rmse_statsmodels/variacao)*100,2)}% - erro médio da amplitude total do conjunto das notas')\n"
   ]
  },
  {
   "cell_type": "markdown",
   "metadata": {},
   "source": [
    "#### Modelo utilizando o DecisionTreeClassifier"
   ]
  },
  {
   "cell_type": "code",
   "execution_count": 1500,
   "metadata": {},
   "outputs": [],
   "source": [
    "from sklearn.tree import DecisionTreeRegressor\n",
    "from sklearn.metrics import mean_absolute_error"
   ]
  },
  {
   "cell_type": "code",
   "execution_count": 1501,
   "metadata": {},
   "outputs": [],
   "source": [
    "y = dados['IMDB_Rating']\n",
    "X = dados.drop(columns = ['Series_Title','IMDB_Rating', 'Certificate','Genre','Overview','Director','Star1','Star2','Star3','Star4'])\n",
    "#refazendo X e y por causa da constante usada no 'SM'\n",
    "\n",
    "X_train_tree, X_test_tree, y_train_tree, y_test_tree = train_test_split(X, y, test_size=0.2, random_state=SEED)"
   ]
  },
  {
   "cell_type": "code",
   "execution_count": 1502,
   "metadata": {},
   "outputs": [
    {
     "data": {
      "text/html": [
       "<style>#sk-container-id-59 {\n",
       "  /* Definition of color scheme common for light and dark mode */\n",
       "  --sklearn-color-text: black;\n",
       "  --sklearn-color-line: gray;\n",
       "  /* Definition of color scheme for unfitted estimators */\n",
       "  --sklearn-color-unfitted-level-0: #fff5e6;\n",
       "  --sklearn-color-unfitted-level-1: #f6e4d2;\n",
       "  --sklearn-color-unfitted-level-2: #ffe0b3;\n",
       "  --sklearn-color-unfitted-level-3: chocolate;\n",
       "  /* Definition of color scheme for fitted estimators */\n",
       "  --sklearn-color-fitted-level-0: #f0f8ff;\n",
       "  --sklearn-color-fitted-level-1: #d4ebff;\n",
       "  --sklearn-color-fitted-level-2: #b3dbfd;\n",
       "  --sklearn-color-fitted-level-3: cornflowerblue;\n",
       "\n",
       "  /* Specific color for light theme */\n",
       "  --sklearn-color-text-on-default-background: var(--sg-text-color, var(--theme-code-foreground, var(--jp-content-font-color1, black)));\n",
       "  --sklearn-color-background: var(--sg-background-color, var(--theme-background, var(--jp-layout-color0, white)));\n",
       "  --sklearn-color-border-box: var(--sg-text-color, var(--theme-code-foreground, var(--jp-content-font-color1, black)));\n",
       "  --sklearn-color-icon: #696969;\n",
       "\n",
       "  @media (prefers-color-scheme: dark) {\n",
       "    /* Redefinition of color scheme for dark theme */\n",
       "    --sklearn-color-text-on-default-background: var(--sg-text-color, var(--theme-code-foreground, var(--jp-content-font-color1, white)));\n",
       "    --sklearn-color-background: var(--sg-background-color, var(--theme-background, var(--jp-layout-color0, #111)));\n",
       "    --sklearn-color-border-box: var(--sg-text-color, var(--theme-code-foreground, var(--jp-content-font-color1, white)));\n",
       "    --sklearn-color-icon: #878787;\n",
       "  }\n",
       "}\n",
       "\n",
       "#sk-container-id-59 {\n",
       "  color: var(--sklearn-color-text);\n",
       "}\n",
       "\n",
       "#sk-container-id-59 pre {\n",
       "  padding: 0;\n",
       "}\n",
       "\n",
       "#sk-container-id-59 input.sk-hidden--visually {\n",
       "  border: 0;\n",
       "  clip: rect(1px 1px 1px 1px);\n",
       "  clip: rect(1px, 1px, 1px, 1px);\n",
       "  height: 1px;\n",
       "  margin: -1px;\n",
       "  overflow: hidden;\n",
       "  padding: 0;\n",
       "  position: absolute;\n",
       "  width: 1px;\n",
       "}\n",
       "\n",
       "#sk-container-id-59 div.sk-dashed-wrapped {\n",
       "  border: 1px dashed var(--sklearn-color-line);\n",
       "  margin: 0 0.4em 0.5em 0.4em;\n",
       "  box-sizing: border-box;\n",
       "  padding-bottom: 0.4em;\n",
       "  background-color: var(--sklearn-color-background);\n",
       "}\n",
       "\n",
       "#sk-container-id-59 div.sk-container {\n",
       "  /* jupyter's `normalize.less` sets `[hidden] { display: none; }`\n",
       "     but bootstrap.min.css set `[hidden] { display: none !important; }`\n",
       "     so we also need the `!important` here to be able to override the\n",
       "     default hidden behavior on the sphinx rendered scikit-learn.org.\n",
       "     See: https://github.com/scikit-learn/scikit-learn/issues/21755 */\n",
       "  display: inline-block !important;\n",
       "  position: relative;\n",
       "}\n",
       "\n",
       "#sk-container-id-59 div.sk-text-repr-fallback {\n",
       "  display: none;\n",
       "}\n",
       "\n",
       "div.sk-parallel-item,\n",
       "div.sk-serial,\n",
       "div.sk-item {\n",
       "  /* draw centered vertical line to link estimators */\n",
       "  background-image: linear-gradient(var(--sklearn-color-text-on-default-background), var(--sklearn-color-text-on-default-background));\n",
       "  background-size: 2px 100%;\n",
       "  background-repeat: no-repeat;\n",
       "  background-position: center center;\n",
       "}\n",
       "\n",
       "/* Parallel-specific style estimator block */\n",
       "\n",
       "#sk-container-id-59 div.sk-parallel-item::after {\n",
       "  content: \"\";\n",
       "  width: 100%;\n",
       "  border-bottom: 2px solid var(--sklearn-color-text-on-default-background);\n",
       "  flex-grow: 1;\n",
       "}\n",
       "\n",
       "#sk-container-id-59 div.sk-parallel {\n",
       "  display: flex;\n",
       "  align-items: stretch;\n",
       "  justify-content: center;\n",
       "  background-color: var(--sklearn-color-background);\n",
       "  position: relative;\n",
       "}\n",
       "\n",
       "#sk-container-id-59 div.sk-parallel-item {\n",
       "  display: flex;\n",
       "  flex-direction: column;\n",
       "}\n",
       "\n",
       "#sk-container-id-59 div.sk-parallel-item:first-child::after {\n",
       "  align-self: flex-end;\n",
       "  width: 50%;\n",
       "}\n",
       "\n",
       "#sk-container-id-59 div.sk-parallel-item:last-child::after {\n",
       "  align-self: flex-start;\n",
       "  width: 50%;\n",
       "}\n",
       "\n",
       "#sk-container-id-59 div.sk-parallel-item:only-child::after {\n",
       "  width: 0;\n",
       "}\n",
       "\n",
       "/* Serial-specific style estimator block */\n",
       "\n",
       "#sk-container-id-59 div.sk-serial {\n",
       "  display: flex;\n",
       "  flex-direction: column;\n",
       "  align-items: center;\n",
       "  background-color: var(--sklearn-color-background);\n",
       "  padding-right: 1em;\n",
       "  padding-left: 1em;\n",
       "}\n",
       "\n",
       "\n",
       "/* Toggleable style: style used for estimator/Pipeline/ColumnTransformer box that is\n",
       "clickable and can be expanded/collapsed.\n",
       "- Pipeline and ColumnTransformer use this feature and define the default style\n",
       "- Estimators will overwrite some part of the style using the `sk-estimator` class\n",
       "*/\n",
       "\n",
       "/* Pipeline and ColumnTransformer style (default) */\n",
       "\n",
       "#sk-container-id-59 div.sk-toggleable {\n",
       "  /* Default theme specific background. It is overwritten whether we have a\n",
       "  specific estimator or a Pipeline/ColumnTransformer */\n",
       "  background-color: var(--sklearn-color-background);\n",
       "}\n",
       "\n",
       "/* Toggleable label */\n",
       "#sk-container-id-59 label.sk-toggleable__label {\n",
       "  cursor: pointer;\n",
       "  display: block;\n",
       "  width: 100%;\n",
       "  margin-bottom: 0;\n",
       "  padding: 0.5em;\n",
       "  box-sizing: border-box;\n",
       "  text-align: center;\n",
       "}\n",
       "\n",
       "#sk-container-id-59 label.sk-toggleable__label-arrow:before {\n",
       "  /* Arrow on the left of the label */\n",
       "  content: \"▸\";\n",
       "  float: left;\n",
       "  margin-right: 0.25em;\n",
       "  color: var(--sklearn-color-icon);\n",
       "}\n",
       "\n",
       "#sk-container-id-59 label.sk-toggleable__label-arrow:hover:before {\n",
       "  color: var(--sklearn-color-text);\n",
       "}\n",
       "\n",
       "/* Toggleable content - dropdown */\n",
       "\n",
       "#sk-container-id-59 div.sk-toggleable__content {\n",
       "  max-height: 0;\n",
       "  max-width: 0;\n",
       "  overflow: hidden;\n",
       "  text-align: left;\n",
       "  /* unfitted */\n",
       "  background-color: var(--sklearn-color-unfitted-level-0);\n",
       "}\n",
       "\n",
       "#sk-container-id-59 div.sk-toggleable__content.fitted {\n",
       "  /* fitted */\n",
       "  background-color: var(--sklearn-color-fitted-level-0);\n",
       "}\n",
       "\n",
       "#sk-container-id-59 div.sk-toggleable__content pre {\n",
       "  margin: 0.2em;\n",
       "  border-radius: 0.25em;\n",
       "  color: var(--sklearn-color-text);\n",
       "  /* unfitted */\n",
       "  background-color: var(--sklearn-color-unfitted-level-0);\n",
       "}\n",
       "\n",
       "#sk-container-id-59 div.sk-toggleable__content.fitted pre {\n",
       "  /* unfitted */\n",
       "  background-color: var(--sklearn-color-fitted-level-0);\n",
       "}\n",
       "\n",
       "#sk-container-id-59 input.sk-toggleable__control:checked~div.sk-toggleable__content {\n",
       "  /* Expand drop-down */\n",
       "  max-height: 200px;\n",
       "  max-width: 100%;\n",
       "  overflow: auto;\n",
       "}\n",
       "\n",
       "#sk-container-id-59 input.sk-toggleable__control:checked~label.sk-toggleable__label-arrow:before {\n",
       "  content: \"▾\";\n",
       "}\n",
       "\n",
       "/* Pipeline/ColumnTransformer-specific style */\n",
       "\n",
       "#sk-container-id-59 div.sk-label input.sk-toggleable__control:checked~label.sk-toggleable__label {\n",
       "  color: var(--sklearn-color-text);\n",
       "  background-color: var(--sklearn-color-unfitted-level-2);\n",
       "}\n",
       "\n",
       "#sk-container-id-59 div.sk-label.fitted input.sk-toggleable__control:checked~label.sk-toggleable__label {\n",
       "  background-color: var(--sklearn-color-fitted-level-2);\n",
       "}\n",
       "\n",
       "/* Estimator-specific style */\n",
       "\n",
       "/* Colorize estimator box */\n",
       "#sk-container-id-59 div.sk-estimator input.sk-toggleable__control:checked~label.sk-toggleable__label {\n",
       "  /* unfitted */\n",
       "  background-color: var(--sklearn-color-unfitted-level-2);\n",
       "}\n",
       "\n",
       "#sk-container-id-59 div.sk-estimator.fitted input.sk-toggleable__control:checked~label.sk-toggleable__label {\n",
       "  /* fitted */\n",
       "  background-color: var(--sklearn-color-fitted-level-2);\n",
       "}\n",
       "\n",
       "#sk-container-id-59 div.sk-label label.sk-toggleable__label,\n",
       "#sk-container-id-59 div.sk-label label {\n",
       "  /* The background is the default theme color */\n",
       "  color: var(--sklearn-color-text-on-default-background);\n",
       "}\n",
       "\n",
       "/* On hover, darken the color of the background */\n",
       "#sk-container-id-59 div.sk-label:hover label.sk-toggleable__label {\n",
       "  color: var(--sklearn-color-text);\n",
       "  background-color: var(--sklearn-color-unfitted-level-2);\n",
       "}\n",
       "\n",
       "/* Label box, darken color on hover, fitted */\n",
       "#sk-container-id-59 div.sk-label.fitted:hover label.sk-toggleable__label.fitted {\n",
       "  color: var(--sklearn-color-text);\n",
       "  background-color: var(--sklearn-color-fitted-level-2);\n",
       "}\n",
       "\n",
       "/* Estimator label */\n",
       "\n",
       "#sk-container-id-59 div.sk-label label {\n",
       "  font-family: monospace;\n",
       "  font-weight: bold;\n",
       "  display: inline-block;\n",
       "  line-height: 1.2em;\n",
       "}\n",
       "\n",
       "#sk-container-id-59 div.sk-label-container {\n",
       "  text-align: center;\n",
       "}\n",
       "\n",
       "/* Estimator-specific */\n",
       "#sk-container-id-59 div.sk-estimator {\n",
       "  font-family: monospace;\n",
       "  border: 1px dotted var(--sklearn-color-border-box);\n",
       "  border-radius: 0.25em;\n",
       "  box-sizing: border-box;\n",
       "  margin-bottom: 0.5em;\n",
       "  /* unfitted */\n",
       "  background-color: var(--sklearn-color-unfitted-level-0);\n",
       "}\n",
       "\n",
       "#sk-container-id-59 div.sk-estimator.fitted {\n",
       "  /* fitted */\n",
       "  background-color: var(--sklearn-color-fitted-level-0);\n",
       "}\n",
       "\n",
       "/* on hover */\n",
       "#sk-container-id-59 div.sk-estimator:hover {\n",
       "  /* unfitted */\n",
       "  background-color: var(--sklearn-color-unfitted-level-2);\n",
       "}\n",
       "\n",
       "#sk-container-id-59 div.sk-estimator.fitted:hover {\n",
       "  /* fitted */\n",
       "  background-color: var(--sklearn-color-fitted-level-2);\n",
       "}\n",
       "\n",
       "/* Specification for estimator info (e.g. \"i\" and \"?\") */\n",
       "\n",
       "/* Common style for \"i\" and \"?\" */\n",
       "\n",
       ".sk-estimator-doc-link,\n",
       "a:link.sk-estimator-doc-link,\n",
       "a:visited.sk-estimator-doc-link {\n",
       "  float: right;\n",
       "  font-size: smaller;\n",
       "  line-height: 1em;\n",
       "  font-family: monospace;\n",
       "  background-color: var(--sklearn-color-background);\n",
       "  border-radius: 1em;\n",
       "  height: 1em;\n",
       "  width: 1em;\n",
       "  text-decoration: none !important;\n",
       "  margin-left: 1ex;\n",
       "  /* unfitted */\n",
       "  border: var(--sklearn-color-unfitted-level-1) 1pt solid;\n",
       "  color: var(--sklearn-color-unfitted-level-1);\n",
       "}\n",
       "\n",
       ".sk-estimator-doc-link.fitted,\n",
       "a:link.sk-estimator-doc-link.fitted,\n",
       "a:visited.sk-estimator-doc-link.fitted {\n",
       "  /* fitted */\n",
       "  border: var(--sklearn-color-fitted-level-1) 1pt solid;\n",
       "  color: var(--sklearn-color-fitted-level-1);\n",
       "}\n",
       "\n",
       "/* On hover */\n",
       "div.sk-estimator:hover .sk-estimator-doc-link:hover,\n",
       ".sk-estimator-doc-link:hover,\n",
       "div.sk-label-container:hover .sk-estimator-doc-link:hover,\n",
       ".sk-estimator-doc-link:hover {\n",
       "  /* unfitted */\n",
       "  background-color: var(--sklearn-color-unfitted-level-3);\n",
       "  color: var(--sklearn-color-background);\n",
       "  text-decoration: none;\n",
       "}\n",
       "\n",
       "div.sk-estimator.fitted:hover .sk-estimator-doc-link.fitted:hover,\n",
       ".sk-estimator-doc-link.fitted:hover,\n",
       "div.sk-label-container:hover .sk-estimator-doc-link.fitted:hover,\n",
       ".sk-estimator-doc-link.fitted:hover {\n",
       "  /* fitted */\n",
       "  background-color: var(--sklearn-color-fitted-level-3);\n",
       "  color: var(--sklearn-color-background);\n",
       "  text-decoration: none;\n",
       "}\n",
       "\n",
       "/* Span, style for the box shown on hovering the info icon */\n",
       ".sk-estimator-doc-link span {\n",
       "  display: none;\n",
       "  z-index: 9999;\n",
       "  position: relative;\n",
       "  font-weight: normal;\n",
       "  right: .2ex;\n",
       "  padding: .5ex;\n",
       "  margin: .5ex;\n",
       "  width: min-content;\n",
       "  min-width: 20ex;\n",
       "  max-width: 50ex;\n",
       "  color: var(--sklearn-color-text);\n",
       "  box-shadow: 2pt 2pt 4pt #999;\n",
       "  /* unfitted */\n",
       "  background: var(--sklearn-color-unfitted-level-0);\n",
       "  border: .5pt solid var(--sklearn-color-unfitted-level-3);\n",
       "}\n",
       "\n",
       ".sk-estimator-doc-link.fitted span {\n",
       "  /* fitted */\n",
       "  background: var(--sklearn-color-fitted-level-0);\n",
       "  border: var(--sklearn-color-fitted-level-3);\n",
       "}\n",
       "\n",
       ".sk-estimator-doc-link:hover span {\n",
       "  display: block;\n",
       "}\n",
       "\n",
       "/* \"?\"-specific style due to the `<a>` HTML tag */\n",
       "\n",
       "#sk-container-id-59 a.estimator_doc_link {\n",
       "  float: right;\n",
       "  font-size: 1rem;\n",
       "  line-height: 1em;\n",
       "  font-family: monospace;\n",
       "  background-color: var(--sklearn-color-background);\n",
       "  border-radius: 1rem;\n",
       "  height: 1rem;\n",
       "  width: 1rem;\n",
       "  text-decoration: none;\n",
       "  /* unfitted */\n",
       "  color: var(--sklearn-color-unfitted-level-1);\n",
       "  border: var(--sklearn-color-unfitted-level-1) 1pt solid;\n",
       "}\n",
       "\n",
       "#sk-container-id-59 a.estimator_doc_link.fitted {\n",
       "  /* fitted */\n",
       "  border: var(--sklearn-color-fitted-level-1) 1pt solid;\n",
       "  color: var(--sklearn-color-fitted-level-1);\n",
       "}\n",
       "\n",
       "/* On hover */\n",
       "#sk-container-id-59 a.estimator_doc_link:hover {\n",
       "  /* unfitted */\n",
       "  background-color: var(--sklearn-color-unfitted-level-3);\n",
       "  color: var(--sklearn-color-background);\n",
       "  text-decoration: none;\n",
       "}\n",
       "\n",
       "#sk-container-id-59 a.estimator_doc_link.fitted:hover {\n",
       "  /* fitted */\n",
       "  background-color: var(--sklearn-color-fitted-level-3);\n",
       "}\n",
       "</style><div id=\"sk-container-id-59\" class=\"sk-top-container\"><div class=\"sk-text-repr-fallback\"><pre>DecisionTreeRegressor(random_state=42)</pre><b>In a Jupyter environment, please rerun this cell to show the HTML representation or trust the notebook. <br />On GitHub, the HTML representation is unable to render, please try loading this page with nbviewer.org.</b></div><div class=\"sk-container\" hidden><div class=\"sk-item\"><div class=\"sk-estimator fitted sk-toggleable\"><input class=\"sk-toggleable__control sk-hidden--visually\" id=\"sk-estimator-id-59\" type=\"checkbox\" checked><label for=\"sk-estimator-id-59\" class=\"sk-toggleable__label fitted sk-toggleable__label-arrow fitted\">&nbsp;&nbsp;DecisionTreeRegressor<a class=\"sk-estimator-doc-link fitted\" rel=\"noreferrer\" target=\"_blank\" href=\"https://scikit-learn.org/1.4/modules/generated/sklearn.tree.DecisionTreeRegressor.html\">?<span>Documentation for DecisionTreeRegressor</span></a><span class=\"sk-estimator-doc-link fitted\">i<span>Fitted</span></span></label><div class=\"sk-toggleable__content fitted\"><pre>DecisionTreeRegressor(random_state=42)</pre></div> </div></div></div></div>"
      ],
      "text/plain": [
       "DecisionTreeRegressor(random_state=42)"
      ]
     },
     "execution_count": 1502,
     "metadata": {},
     "output_type": "execute_result"
    }
   ],
   "source": [
    "modelo_decision_tree = DecisionTreeRegressor(random_state=SEED)\n",
    "modelo_decision_tree.fit(X_train_tree, y_train_tree)"
   ]
  },
  {
   "cell_type": "code",
   "execution_count": 1503,
   "metadata": {},
   "outputs": [
    {
     "name": "stdout",
     "output_type": "stream",
     "text": [
      "RMSE: 0.23028309323591914\n",
      "Desempenho do modelo sckit_learn: 14.39% - erro médio da amplitude total do conjunto das notas\n"
     ]
    }
   ],
   "source": [
    "y_pred = modelo_decision_tree.predict(X_test_tree)\n",
    "\n",
    "rmse_tree = np.sqrt(mean_squared_error(y_test_tree, y_pred))\n",
    "print(f'RMSE: {rmse_tree}')\n",
    "print(f'Desempenho do modelo sckit_learn: {round((rmse_tree/variacao)*100,2)}% - erro médio da amplitude total do conjunto das notas')"
   ]
  },
  {
   "cell_type": "markdown",
   "metadata": {},
   "source": [
    "### Os valores do RMSE dos modelos\n",
    "A métrica RMSE foi escolhida para termos uma base de comparação entre os diferentes modelo, onde o RMSE zero indicaria uma precisao perfeita, sem erros, pois a raiz quadrada média dos erros dando zero seria zero.\n",
    "* <b>Modelo do SckitLearn -</b> Esse modelo possui um RMSE de 0.197, onde vale ressaltar que um desempenho de 12.33% é um bom desempenho, levando em conta nossa métrica a variação total do nosso target ser de 1.6. Lembrando também que essa é uma biblioteca mais voltada ao desenvolvimento de modelos de machine learning, mas também possue forte parte estatistica.\n",
    "\n",
    "* <b>Modelo do StatsModel -</b> Esse modelo possui um RMSE de 0.197, mesmo desempenho do modelo do SckitLearn,com o  desempenho de 12.33% equivalente. Lembrando que essa é uma biblioteca mais voltada para desenvolvimento estatistico e analise.\n",
    "\n",
    "Por que isso acontece? Bom, as bibliotecas python possuem algumas similaridades dentro do seu desenvolvimento, como estou utilizando o desenvolvimento de modelos de regressão linear baseado nas bibliotecas e seus padrões pode acontecer de termos resultados similares, que é o nosso caso.\n",
    "\n",
    "* <b>Modelo do DecisionTree -</b> Esse modelo possui um RMSE de 0.23, com o  desempenho de 14.39%, ou seja, atinge uma variação maior, logo um dos dois modelos anteriores é mais indicado.\n",
    "\n",
    "Definido os valores e comparações dos modelos eu optei por trabalhar com o modelo do <b>SckitLearn</b>.\n",
    "\n",
    "### Salvando o modelo em '.pkl' e fazendo a previsão."
   ]
  },
  {
   "cell_type": "code",
   "execution_count": 1504,
   "metadata": {},
   "outputs": [
    {
     "name": "stderr",
     "output_type": "stream",
     "text": [
      "/home/fabio/.local/lib/python3.10/site-packages/sklearn/base.py:493: UserWarning: X does not have valid feature names, but LinearRegression was fitted with feature names\n",
      "  warnings.warn(\n"
     ]
    },
    {
     "data": {
      "text/plain": [
       "array([9.05122711])"
      ]
     },
     "execution_count": 1504,
     "metadata": {},
     "output_type": "execute_result"
    }
   ],
   "source": [
    "filme = np.array([[1994, 142, 8, 2343110, 28341469]])\n",
    "#Atenção, lembrar que eu fiz a divisao por 10 das notas dos criticos, aplicar isso na previsao \n",
    "\n",
    "modelo_sckit.predict(filme)"
   ]
  },
  {
   "cell_type": "markdown",
   "metadata": {},
   "source": [
    "Aqui a previsão do nosso filme é que ele obtenha uma nota de 9.05, lembrando que temos um erro aproximado de 0.197 dentro do nosso modelo treinado, dado pelo RMSE, ou seja, o filme tem uma variação de nota de 8.85 até 9.24 (sendo que 9.2 é o máximo que encontramos dentro do conjunto de dados, ou seja, passa do limite da nota maxima do nosso conjunto de dados). Aqui é importante ressaltar que a notas dos criticos ser apenas 80 para esse filme é extremamente questionável. Brincadeiras a parte essa são as expectativas da nota do filme com os parâmetros definidos no desafio.\n",
    "\n",
    "Definido minha previsão com o modelo escolhido irei salva-lo como pedido no desafio."
   ]
  },
  {
   "cell_type": "code",
   "execution_count": 1505,
   "metadata": {},
   "outputs": [],
   "source": [
    "import pickle\n",
    "\n",
    "with open('LH_CD_Fabio_Dias.pkl', 'wb') as f:\n",
    "    pickle.dump(modelo_sckit, f)"
   ]
  },
  {
   "cell_type": "markdown",
   "metadata": {},
   "source": [
    "Agora com o modelo salvo irei carraga-lo e testa-lo."
   ]
  },
  {
   "cell_type": "code",
   "execution_count": 1506,
   "metadata": {},
   "outputs": [],
   "source": [
    "with open('LH_CD_Fabio_Dias.pkl', 'rb') as arquivo:\n",
    "    modelo_carregado = pickle.load(arquivo)"
   ]
  },
  {
   "cell_type": "code",
   "execution_count": 1507,
   "metadata": {},
   "outputs": [
    {
     "name": "stdout",
     "output_type": "stream",
     "text": [
      "[9.05122711]\n"
     ]
    },
    {
     "name": "stderr",
     "output_type": "stream",
     "text": [
      "/home/fabio/.local/lib/python3.10/site-packages/sklearn/base.py:493: UserWarning: X does not have valid feature names, but LinearRegression was fitted with feature names\n",
      "  warnings.warn(\n"
     ]
    }
   ],
   "source": [
    "previsao = modelo_carregado.predict(filme)\n",
    "print(previsao)"
   ]
  },
  {
   "cell_type": "markdown",
   "metadata": {},
   "source": [
    "Com o modelo funcionando encerramos o desafio."
   ]
  },
  {
   "cell_type": "markdown",
   "metadata": {},
   "source": [
    "# Agradecimentos e considerações finais\n",
    "Gostaria de agradecer a empresa Indicium pela oportunidade e pelo desafio, foram muitas horas investidas nesse projeto que me orgulho de ter desenvolvido e que trouxe muito aprendizado que utilizarei em minha carreira. Fico muito feliz pelo trabalho realizado, mas também gostaria de ter mais tempo para continuar melhorando tudo aquilo que foi desenvolvido aqui, fico com a sensação de trabalho concluido, mas também a sensação de poder fazer ainda mais. </br>\n",
    "Enquanto eu revisava tudo o que foi desenvolvido eu pensei em várias possiveis melhorias e novas análises que eu consideraria fazer, principalmente pensando se estivesse fazendo um trabalho real em uma empresa quais pontos eu iria consultar com pessoas mais experientes que eu, então vou listar aqui os pontos que achei relevante e que caberiam revisão, considero que são pontos que poderia melhorar futuramente nesse projeto.\n",
    "\n",
    "* Análise da coluna 'Genre' com a 'Overview' - Apesar de eu fazer uma análise direta por buscas das palavras da coluna Overview eu tive pouco casos de encontro dessas palavras, entao seria necessario um aprofundamento melhor na coluna em si, possivelmente utilizando NLP para fazer análise do 'genre' com o 'overview', eu nunca tinha efetuado um trabalho utilizando NLP, apesar de aplicar para buscar respostas desenvolvi codigos em que nao estava satisfeito com os resultados, por isso optei por uma entrega com menos codigo mas onde eu sei exatamente tudo o que esta sendo executado.\n",
    "* Aprimoramento das caracteristicas usadas nos modelos: existem colunas com grande quantidades de valores únicos, cito de exemplo a coluna de diretores (548) e atores(659 apenas na coluna 'Star1'), principalmente. Aplicar one-hot_enconding traria um aumento absurdo para a quantidade de dados processados no nosso conjunto de dados, então teria que buscar formas de trabalhar a relação desses atores com notas e com o faturamento.\n",
    "\n",
    "No mais eu fico ansioso pelo retorno da empresa, li boa parte do site e achei impressionante o que vocês construiram e como trabalham, além das diversas premiações pelo bom trabalho que a empresa consegue desenvolver."
   ]
  }
 ],
 "metadata": {
  "kernelspec": {
   "display_name": "Python 3",
   "language": "python",
   "name": "python3"
  },
  "language_info": {
   "codemirror_mode": {
    "name": "ipython",
    "version": 3
   },
   "file_extension": ".py",
   "mimetype": "text/x-python",
   "name": "python",
   "nbconvert_exporter": "python",
   "pygments_lexer": "ipython3",
   "version": "3.10.12"
  }
 },
 "nbformat": 4,
 "nbformat_minor": 2
}
